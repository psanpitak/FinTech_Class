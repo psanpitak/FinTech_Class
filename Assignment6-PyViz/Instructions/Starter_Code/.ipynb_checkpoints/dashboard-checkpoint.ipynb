{
 "cells": [
  {
   "cell_type": "markdown",
   "metadata": {},
   "source": [
    "# San Francisco Rental Prices Dashboard\n",
    "\n",
    "In this notebook, you will compile the visualizations from the previous analysis into functions that can be used for a Panel dashboard."
   ]
  },
  {
   "cell_type": "code",
   "execution_count": 108,
   "metadata": {},
   "outputs": [],
   "source": [
    "# imports\n",
    "import panel as pn\n",
    "pn.extension('plotly')\n",
    "import plotly.express as px\n",
    "import pandas as pd\n",
    "import hvplot.pandas\n",
    "import matplotlib.pyplot as plt\n",
    "import os\n",
    "from pathlib import Path\n",
    "from dotenv import load_dotenv\n",
    "\n",
    "from panel.interact import interact\n",
    "from panel import widgets\n",
    "\n",
    "pn.extension()"
   ]
  },
  {
   "cell_type": "code",
   "execution_count": 109,
   "metadata": {},
   "outputs": [],
   "source": [
    "# Read the Mapbox API key\n",
    "load_dotenv()\n",
    "mapbox_token = os.getenv(\"MAPBOX\")"
   ]
  },
  {
   "cell_type": "markdown",
   "metadata": {},
   "source": [
    "# Import Data"
   ]
  },
  {
   "cell_type": "code",
   "execution_count": 110,
   "metadata": {},
   "outputs": [],
   "source": [
    "# Import the CSVs to Pandas DataFrames\n",
    "file_path = Path(\"Data/sfo_neighborhoods_census_data.csv\")\n",
    "sfo_data = pd.read_csv(file_path, index_col=\"year\")\n",
    "\n",
    "file_path = Path(\"Data/neighborhoods_coordinates.csv\")\n",
    "df_neighborhood_locations = pd.read_csv(file_path)"
   ]
  },
  {
   "cell_type": "markdown",
   "metadata": {},
   "source": [
    "- - -"
   ]
  },
  {
   "cell_type": "markdown",
   "metadata": {},
   "source": [
    "## Panel Visualizations\n",
    "\n",
    "In this section, you will copy the code for each plot type from your analysis notebook and place it into separate functions that Panel can use to create panes for the dashboard. \n",
    "\n",
    "These functions will convert the plot object to a Panel pane.\n",
    "\n",
    "Be sure to include any DataFrame transformation/manipulation code required along with the plotting code.\n",
    "\n",
    "Return a Panel pane object from each function that can be used to build the dashboard.\n",
    "\n",
    "Note: Remove any `.show()` lines from the code. We want to return the plots instead of showing them. The Panel dashboard will then display the plots."
   ]
  },
  {
   "cell_type": "code",
   "execution_count": 111,
   "metadata": {},
   "outputs": [],
   "source": [
    "# Define Panel Visualization Functions\n",
    "def housing_units_per_year():\n",
    "    \"\"\"Housing Units Per Year.\"\"\"    \n",
    "    # YOUR CODE HERE!\n",
    "    sfo_housing_unit = sfo_data[\"housing_units\"].groupby(\"year\").sum()\n",
    "    housing_unit_plot = sfo_housing_unit.hvplot.bar(\n",
    "                title = \"Total Housing Units per Year\",\n",
    "                x=\"year\",\n",
    "                y=\"housing_units\",\n",
    "                ylim = (sfo_housing_unit.min()-sfo_housing_unit.std(), sfo_housing_unit.max()+sfo_housing_unit.std())\n",
    "        )\n",
    "    return housing_unit_plot\n",
    "\n",
    "\n",
    "def average_gross_rent():\n",
    "    \"\"\"Average Gross Rent in San Francisco Per Year.\"\"\"\n",
    "    # YOUR CODE HERE!\n",
    "    sfo_avg_gross_rent = sfo_data[\"gross_rent\"].groupby(\"year\").mean()\n",
    "    avg_gross_rent_plot = sfo_avg_gross_rent.hvplot.line(\n",
    "        title=\"Average Gross Rent per Year\",\n",
    "        x=\"year\",\n",
    "        y=\"gross_rent\"\n",
    "        )\n",
    "    return avg_gross_rent_plot\n",
    "\n",
    "\n",
    "\n",
    "def average_sales_price():\n",
    "    \"\"\"Average Sales Price Per Year.\"\"\"   \n",
    "    # YOUR CODE HERE!\n",
    "    sfo_avg_sales_price = sfo_data[\"sale_price_sqr_foot\"].groupby(\"year\").mean()\n",
    "    avg_sales_price_plot = sfo_avg_sales_price.hvplot.line(\n",
    "        title=\"Average Sales Price per Year\",\n",
    "        x=\"year\",\n",
    "        y=\"sale_price_sqr_foot\"\n",
    "        )\n",
    "    return avg_sales_price_plot\n",
    "\n",
    "def average_price_by_neighborhood(neighborhood):\n",
    "    \"\"\"Average Prices by Neighborhood.\"\"\" \n",
    "    # YOUR CODE HERE!    \n",
    "    neighbothood_plot = sfo_housing_neighborhood[sfo_housing_neighborhood[\"neighborhood\"]==neighborhood].hvplot.line(\n",
    "        x=\"year\",\n",
    "        y=\"sale_price_sqr_foot\",\n",
    "        title=f\"Average Price per Sqft in {neighborhood}\",\n",
    "    )   \n",
    "    return neighbothood_plot\n",
    "    \n",
    "\n",
    "def top_most_expensive_neighborhoods():\n",
    "    \"\"\"Top 10 Most Expensive Neighborhoods.\"\"\"   \n",
    "    # YOUR CODE HERE!\n",
    "    sfo_neighborhood_top10 = sfo_data.groupby(\"neighborhood\").mean().sort_values(\"sale_price_sqr_foot\", ascending=False).head(10).reset_index()\n",
    "    neighborhood_top10_plot = sfo_neighborhood_top10.hvplot.bar(\n",
    "    title = \"Top 10 Expensive Neighborhood in SFO\",\n",
    "    x = \"neighborhood\",\n",
    "    xlabel = \"Neighborhood\",\n",
    "    y = \"sale_price_sqr_foot\",\n",
    "    ylabel = \"Avg. Price per Sqft.\",\n",
    "    rot = 90   \n",
    ")    \n",
    "    return neighborhood_top10_plot\n",
    "\n",
    "\n",
    "def parallel_coordinates():\n",
    "    \"\"\"Parallel Coordinates Plot.\"\"\"   \n",
    "    # YOUR CODE HERE!\n",
    "    sfo_neighborhood_top10 = sfo_data.groupby(\"neighborhood\").mean().sort_values(\"sale_price_sqr_foot\", ascending=False).head(10).reset_index()\n",
    "    parallel_coor_plot = px.parallel_coordinates(sfo_neighborhood_top10,  color=\"sale_price_sqr_foot\")\n",
    "    return parallel_coor_plot\n",
    "\n",
    "\n",
    "def parallel_categories():\n",
    "    \"\"\"Parallel Categories Plot.\"\"\"   \n",
    "    # YOUR CODE HERE!\n",
    "    sfo_neighborhood_top10 = sfo_data.groupby(\"neighborhood\").mean().sort_values(\"sale_price_sqr_foot\", ascending=False).head(10).reset_index()\n",
    "    parallel_cate_plot = px.parallel_categories(\n",
    "    sfo_neighborhood_top10,\n",
    "    dimensions=[\"neighborhood\", \"sale_price_sqr_foot\", \"housing_units\",\"gross_rent\"],\n",
    "    color=\"sale_price_sqr_foot\",\n",
    "    color_continuous_scale=px.colors.sequential.Inferno,\n",
    "    labels={\n",
    "        \"neighborhood\": \"Neighborhood\",\n",
    "        \"sale_price_sqr_foot\": \"Avg. Price per Sqft.\",\n",
    "        \"housing_units\": \"Housing Units\",\n",
    "        \"gross_rent\":\"Gross Rental\"\n",
    "    },\n",
    ")\n",
    "    return parallel_cate_plot\n",
    "\n",
    "\n",
    "def neighborhood_map():\n",
    "    \"\"\"Neighborhood Map\"\"\"    \n",
    "    # YOUR CODE HERE!\n",
    "    sfo_map = sfo_data.groupby(\"neighborhood\").mean().reset_index()\n",
    "    sfo_concat = pd.concat([df_neighborhood_locations,sfo_map], axis=\"columns\", join=\"inner\").drop(columns=[\"neighborhood\"])\n",
    "    load_dotenv()\n",
    "    map_box_api = os.getenv(\"MAPBOX\")\n",
    "    px.set_mapbox_access_token(map_box_api)\n",
    "    map_plot = px.scatter_mapbox(\n",
    "    sfo_concat,\n",
    "    lat=\"Lat\",\n",
    "    lon=\"Lon\",\n",
    "    size=\"sale_price_sqr_foot\",\n",
    "    color=\"gross_rent\",\n",
    "    zoom=10)\n",
    "    return map_plot\n",
    "# Display the map\n",
    "    map_plot.show()\n"
   ]
  },
  {
   "cell_type": "markdown",
   "metadata": {},
   "source": [
    "## Panel Dashboard\n",
    "\n",
    "In this section, you will combine all of the plots into a single dashboard view using Panel. Be creative with your dashboard design!"
   ]
  },
  {
   "cell_type": "code",
   "execution_count": 112,
   "metadata": {},
   "outputs": [],
   "source": [
    "# YOUR CODE HERE!\n",
    "annual_analysis = pn.Column(\n",
    "    \"##Annual Analysis\", housing_units_per_year(), average_gross_rent(), average_sales_price()\n",
    ")\n",
    "\n",
    "sfo_housing_neighborhood = sfo_data.groupby([\"year\",\"neighborhood\"]).mean().reset_index()\n",
    "list_of_neighborhood = sfo_housing_neighborhood[\"neighborhood\"].unique()\n",
    "neighborhood_analysis = pn.Column(\n",
    "    \"##Neighborhood Analysis\", interact(average_price_by_neighborhood, neighborhood=list_of_neighborhood), top_most_expensive_neighborhoods()\n",
    ")\n",
    "\n",
    "parallel_analysis = pn.Column(\n",
    "    \"Parallel Analysis\", parallel_coordinates(), parallel_categories()\n",
    ")\n",
    "\n",
    "panel = pn.Tabs(\n",
    "    (\"Annual\", annual_analysis), (\"Neighborhood\", neighborhood_analysis), (\"Parallel\", parallel_analysis), (\"Map\",neighborhood_map())\n",
    ")"
   ]
  },
  {
   "cell_type": "markdown",
   "metadata": {},
   "source": [
    "## Serve the Panel Dashboard"
   ]
  },
  {
   "cell_type": "code",
   "execution_count": 113,
   "metadata": {},
   "outputs": [
    {
     "data": {},
     "metadata": {},
     "output_type": "display_data"
    },
    {
     "data": {},
     "metadata": {},
     "output_type": "display_data"
    },
    {
     "data": {
      "application/vnd.holoviews_exec.v0+json": "",
      "text/html": [
       "<div id='10136'>\n",
       "\n",
       "\n",
       "\n",
       "\n",
       "\n",
       "  <div class=\"bk-root\" id=\"88d472d8-0518-4704-87bb-1606f36f79e3\" data-root-id=\"10136\"></div>\n",
       "</div>\n",
       "<script type=\"application/javascript\">(function(root) {\n",
       "  function embed_document(root) {\n",
       "    var docs_json = {\"0a1b07c4-e471-4a6c-9829-673feca2567a\":{\"roots\":{\"references\":[{\"attributes\":{\"margin\":[0,0,0,0],\"tabs\":[{\"id\":\"10321\"},{\"id\":\"10449\"},{\"id\":\"10456\"},{\"id\":\"10459\"}]},\"id\":\"10136\",\"type\":\"Tabs\"},{\"attributes\":{\"text\":\"Average Gross Rent per Year\",\"text_color\":{\"value\":\"black\"},\"text_font_size\":{\"value\":\"12pt\"}},\"id\":\"10203\",\"type\":\"Title\"},{\"attributes\":{\"axis\":{\"id\":\"10151\"},\"grid_line_color\":null,\"ticker\":null},\"id\":\"10153\",\"type\":\"Grid\"},{\"attributes\":{},\"id\":\"10207\",\"type\":\"LinearScale\"},{\"attributes\":{\"axis_label\":\"year\",\"bounds\":\"auto\",\"formatter\":{\"id\":\"10240\"},\"major_label_orientation\":\"horizontal\",\"ticker\":{\"id\":\"10212\"}},\"id\":\"10211\",\"type\":\"LinearAxis\"},{\"attributes\":{},\"id\":\"10209\",\"type\":\"LinearScale\"},{\"attributes\":{\"css_classes\":[\"markdown\"],\"margin\":[5,5,5,5],\"name\":\"Markdown13058\",\"text\":\"&lt;h2&gt;Neighborhood Analysis&lt;/h2&gt;\"},\"id\":\"10323\",\"type\":\"panel.models.markup.HTML\"},{\"attributes\":{},\"id\":\"10212\",\"type\":\"BasicTicker\"},{\"attributes\":{\"axis\":{\"id\":\"10215\"},\"dimension\":1,\"grid_line_color\":null,\"ticker\":null},\"id\":\"10218\",\"type\":\"Grid\"},{\"attributes\":{},\"id\":\"10464\",\"type\":\"Selection\"},{\"attributes\":{\"axis\":{\"id\":\"10211\"},\"grid_line_color\":null,\"ticker\":null},\"id\":\"10214\",\"type\":\"Grid\"},{\"attributes\":{\"children\":[{\"id\":\"10331\"}],\"margin\":[0,0,0,0],\"name\":\"Row12979\"},\"id\":\"10327\",\"type\":\"Row\"},{\"attributes\":{},\"id\":\"10216\",\"type\":\"BasicTicker\"},{\"attributes\":{\"children\":[{\"id\":\"10325\"},{\"id\":\"10327\"}],\"margin\":[0,0,0,0],\"name\":\"Column12894\"},\"id\":\"10324\",\"type\":\"Column\"},{\"attributes\":{\"axis_label\":\"\",\"bounds\":\"auto\",\"formatter\":{\"id\":\"10242\"},\"major_label_orientation\":\"horizontal\",\"ticker\":{\"id\":\"10216\"}},\"id\":\"10215\",\"type\":\"LinearAxis\"},{\"attributes\":{},\"id\":\"10152\",\"type\":\"CategoricalTicker\"},{\"attributes\":{\"data\":{\"sale_price_sqr_foot\":{\"__ndarray__\":\"Dkc7WO0yckCafszcbwhxQIGRs5ot42ZAJzog0LQ8eEAWMinKGEd+QI0V5FDt0IJAVCHcmLVPdUA=\",\"dtype\":\"float64\",\"order\":\"little\",\"shape\":[7]},\"year\":[2010,2011,2012,2013,2014,2015,2016]},\"selected\":{\"id\":\"10362\"},\"selection_policy\":{\"id\":\"10379\"}},\"id\":\"10361\",\"type\":\"ColumnDataSource\"},{\"attributes\":{\"css_classes\":[\"markdown\"],\"margin\":[5,5,5,5],\"name\":\"Markdown13066\",\"text\":\"&lt;p&gt;Parallel Analysis&lt;/p&gt;\"},\"id\":\"10451\",\"type\":\"panel.models.markup.HTML\"},{\"attributes\":{\"data_source\":{\"id\":\"10232\"},\"glyph\":{\"id\":\"10235\"},\"hover_glyph\":null,\"muted_glyph\":{\"id\":\"10237\"},\"nonselection_glyph\":{\"id\":\"10236\"},\"selection_glyph\":null,\"view\":{\"id\":\"10239\"}},\"id\":\"10238\",\"type\":\"GlyphRenderer\"},{\"attributes\":{\"children\":[{\"id\":\"10326\"}],\"margin\":[0,0,0,0],\"name\":\"Column12980\"},\"id\":\"10325\",\"type\":\"Column\"},{\"attributes\":{\"source\":{\"id\":\"10232\"}},\"id\":\"10239\",\"type\":\"CDSView\"},{\"attributes\":{\"child\":{\"id\":\"10137\"},\"name\":\"Column12892\",\"title\":\"Annual\"},\"id\":\"10321\",\"type\":\"Panel\"},{\"attributes\":{\"axis_label\":\"\",\"bounds\":\"auto\",\"formatter\":{\"id\":\"10181\"},\"major_label_orientation\":\"horizontal\",\"ticker\":{\"id\":\"10155\"}},\"id\":\"10154\",\"type\":\"LinearAxis\"},{\"attributes\":{},\"id\":\"10219\",\"type\":\"SaveTool\"},{\"attributes\":{},\"id\":\"10220\",\"type\":\"PanTool\"},{\"attributes\":{},\"id\":\"10465\",\"type\":\"UnionRenderers\"},{\"attributes\":{},\"id\":\"10223\",\"type\":\"ResetTool\"},{\"attributes\":{\"factors\":[\"2010\",\"2011\",\"2012\",\"2013\",\"2014\",\"2015\",\"2016\"],\"tags\":[[[\"year\",\"year\",null]]]},\"id\":\"10139\",\"type\":\"FactorRange\"},{\"attributes\":{},\"id\":\"10221\",\"type\":\"WheelZoomTool\"},{\"attributes\":{},\"id\":\"10482\",\"type\":\"Selection\"},{\"attributes\":{},\"id\":\"10483\",\"type\":\"UnionRenderers\"},{\"attributes\":{\"overlay\":{\"id\":\"10224\"}},\"id\":\"10222\",\"type\":\"BoxZoomTool\"},{\"attributes\":{},\"id\":\"10484\",\"type\":\"Selection\"},{\"attributes\":{},\"id\":\"10242\",\"type\":\"BasicTickFormatter\"},{\"attributes\":{\"data\":{\"sale_price_sqr_foot\":{\"__ndarray__\":\"tQKjeIIVd0Do7CdydF51QGdijk899nhAaBKk2Jo5fkDGKCTbN2KBQPETFqRSxINAUB33UCbNhUA=\",\"dtype\":\"float64\",\"order\":\"little\",\"shape\":[7]},\"year\":[2010,2011,2012,2013,2014,2015,2016]},\"selected\":{\"id\":\"10294\"},\"selection_policy\":{\"id\":\"10311\"}},\"id\":\"10293\",\"type\":\"ColumnDataSource\"},{\"attributes\":{},\"id\":\"10485\",\"type\":\"UnionRenderers\"},{\"attributes\":{\"child\":{\"id\":\"10322\"},\"name\":\"Column13065\",\"title\":\"Neighborhood\"},\"id\":\"10449\",\"type\":\"Panel\"},{\"attributes\":{},\"id\":\"10147\",\"type\":\"CategoricalScale\"},{\"attributes\":{},\"id\":\"10189\",\"type\":\"UnionRenderers\"},{\"attributes\":{\"css_classes\":[\"markdown\"],\"margin\":[5,5,5,5],\"name\":\"Markdown12875\",\"text\":\"&lt;h2&gt;Annual Analysis&lt;/h2&gt;\"},\"id\":\"10138\",\"type\":\"panel.models.markup.HTML\"},{\"attributes\":{},\"id\":\"10155\",\"type\":\"BasicTicker\"},{\"attributes\":{\"end\":2016.0,\"reset_end\":2016.0,\"reset_start\":2010.0,\"start\":2010.0,\"tags\":[[[\"year\",\"year\",null]]]},\"id\":\"10328\",\"type\":\"Range1d\"},{\"attributes\":{},\"id\":\"10311\",\"type\":\"UnionRenderers\"},{\"attributes\":{\"fill_color\":{\"value\":\"#1f77b3\"},\"top\":{\"field\":\"housing_units\"},\"width\":{\"value\":0.8},\"x\":{\"field\":\"year\"}},\"id\":\"10174\",\"type\":\"VBar\"},{\"attributes\":{\"children\":[{\"id\":\"10138\"},{\"id\":\"10142\"},{\"id\":\"10202\"},{\"id\":\"10263\"}],\"margin\":[0,0,0,0],\"name\":\"Column12892\"},\"id\":\"10137\",\"type\":\"Column\"},{\"attributes\":{\"children\":[{\"id\":\"10451\"},{\"id\":\"10453\"},{\"id\":\"10455\"}],\"margin\":[0,0,0,0],\"name\":\"Column13072\"},\"id\":\"10450\",\"type\":\"Column\"},{\"attributes\":{\"below\":[{\"id\":\"10151\"}],\"center\":[{\"id\":\"10153\"},{\"id\":\"10157\"}],\"left\":[{\"id\":\"10154\"}],\"margin\":[5,5,5,5],\"min_border_bottom\":10,\"min_border_left\":10,\"min_border_right\":10,\"min_border_top\":10,\"plot_height\":300,\"plot_width\":700,\"renderers\":[{\"id\":\"10177\"}],\"sizing_mode\":\"fixed\",\"title\":{\"id\":\"10143\"},\"toolbar\":{\"id\":\"10164\"},\"x_range\":{\"id\":\"10139\"},\"x_scale\":{\"id\":\"10147\"},\"y_range\":{\"id\":\"10140\"},\"y_scale\":{\"id\":\"10149\"}},\"id\":\"10142\",\"subtype\":\"Figure\",\"type\":\"Plot\"},{\"attributes\":{\"end\":24529333.17682306,\"reset_end\":24529333.17682306,\"reset_start\":15966678.823176939,\"start\":15966678.823176939,\"tags\":[[[\"housing_units\",\"housing_units\",null]]]},\"id\":\"10140\",\"type\":\"Range1d\"},{\"attributes\":{},\"id\":\"10240\",\"type\":\"BasicTickFormatter\"},{\"attributes\":{\"fill_alpha\":{\"value\":0.2},\"fill_color\":{\"value\":\"#1f77b3\"},\"line_alpha\":{\"value\":0.2},\"top\":{\"field\":\"housing_units\"},\"width\":{\"value\":0.8},\"x\":{\"field\":\"year\"}},\"id\":\"10176\",\"type\":\"VBar\"},{\"attributes\":{\"active_drag\":\"auto\",\"active_inspect\":\"auto\",\"active_multi\":null,\"active_scroll\":\"auto\",\"active_tap\":\"auto\",\"tools\":[{\"id\":\"10201\"},{\"id\":\"10219\"},{\"id\":\"10220\"},{\"id\":\"10221\"},{\"id\":\"10222\"},{\"id\":\"10223\"}]},\"id\":\"10225\",\"type\":\"Toolbar\"},{\"attributes\":{\"children\":[{\"id\":\"10323\"},{\"id\":\"10324\"},{\"id\":\"10392\"}],\"margin\":[0,0,0,0],\"name\":\"Column13065\"},\"id\":\"10322\",\"type\":\"Column\"},{\"attributes\":{},\"id\":\"10431\",\"type\":\"BasicTickFormatter\"},{\"attributes\":{},\"id\":\"10250\",\"type\":\"UnionRenderers\"},{\"attributes\":{\"bottom_units\":\"screen\",\"fill_alpha\":0.5,\"fill_color\":\"lightgrey\",\"left_units\":\"screen\",\"level\":\"overlay\",\"line_alpha\":1.0,\"line_color\":\"black\",\"line_dash\":[4,4],\"line_width\":2,\"right_units\":\"screen\",\"top_units\":\"screen\"},\"id\":\"10224\",\"type\":\"BoxAnnotation\"},{\"attributes\":{\"text\":\"Total Housing Units per Year\",\"text_color\":{\"value\":\"black\"},\"text_font_size\":{\"value\":\"12pt\"}},\"id\":\"10143\",\"type\":\"Title\"},{\"attributes\":{\"fill_alpha\":{\"value\":0.1},\"fill_color\":{\"value\":\"#1f77b3\"},\"line_alpha\":{\"value\":0.1},\"top\":{\"field\":\"housing_units\"},\"width\":{\"value\":0.8},\"x\":{\"field\":\"year\"}},\"id\":\"10175\",\"type\":\"VBar\"},{\"attributes\":{},\"id\":\"10362\",\"type\":\"Selection\"},{\"attributes\":{\"line_color\":\"#1f77b3\",\"line_width\":2,\"x\":{\"field\":\"year\"},\"y\":{\"field\":\"sale_price_sqr_foot\"}},\"id\":\"10364\",\"type\":\"Line\"},{\"attributes\":{},\"id\":\"10273\",\"type\":\"BasicTicker\"},{\"attributes\":{\"axis\":{\"id\":\"10404\"},\"dimension\":1,\"grid_line_color\":null,\"ticker\":null},\"id\":\"10407\",\"type\":\"Grid\"},{\"attributes\":{},\"id\":\"10162\",\"type\":\"ResetTool\"},{\"attributes\":{},\"id\":\"10303\",\"type\":\"BasicTickFormatter\"},{\"attributes\":{},\"id\":\"10405\",\"type\":\"BasicTicker\"},{\"attributes\":{\"axis\":{\"id\":\"10276\"},\"dimension\":1,\"grid_line_color\":null,\"ticker\":null},\"id\":\"10279\",\"type\":\"Grid\"},{\"attributes\":{\"axis_label\":\"Avg. Price per Sqft.\",\"bounds\":\"auto\",\"formatter\":{\"id\":\"10431\"},\"major_label_orientation\":\"horizontal\",\"ticker\":{\"id\":\"10405\"}},\"id\":\"10404\",\"type\":\"LinearAxis\"},{\"attributes\":{\"bottom_units\":\"screen\",\"fill_alpha\":0.5,\"fill_color\":\"lightgrey\",\"left_units\":\"screen\",\"level\":\"overlay\",\"line_alpha\":1.0,\"line_color\":\"black\",\"line_dash\":[4,4],\"line_width\":2,\"right_units\":\"screen\",\"top_units\":\"screen\"},\"id\":\"10353\",\"type\":\"BoxAnnotation\"},{\"attributes\":{\"axis\":{\"id\":\"10272\"},\"grid_line_color\":null,\"ticker\":null},\"id\":\"10275\",\"type\":\"Grid\"},{\"attributes\":{\"data_source\":{\"id\":\"10421\"},\"glyph\":{\"id\":\"10424\"},\"hover_glyph\":null,\"muted_glyph\":{\"id\":\"10426\"},\"nonselection_glyph\":{\"id\":\"10425\"},\"selection_glyph\":null,\"view\":{\"id\":\"10428\"}},\"id\":\"10427\",\"type\":\"GlyphRenderer\"},{\"attributes\":{\"active_drag\":\"auto\",\"active_inspect\":\"auto\",\"active_multi\":null,\"active_scroll\":\"auto\",\"active_tap\":\"auto\",\"tools\":[{\"id\":\"10330\"},{\"id\":\"10348\"},{\"id\":\"10349\"},{\"id\":\"10350\"},{\"id\":\"10351\"},{\"id\":\"10352\"}]},\"id\":\"10354\",\"type\":\"Toolbar\"},{\"attributes\":{},\"id\":\"10277\",\"type\":\"BasicTicker\"},{\"attributes\":{\"client_comm_id\":\"fc6bb9e31fd14227be0ef5d88ac8a319\",\"comm_id\":\"6fe5263666084558aee50c52d5bf5cae\",\"plot_id\":\"10136\"},\"id\":\"10598\",\"type\":\"panel.models.comm_manager.CommManager\"},{\"attributes\":{\"_render_count\":0,\"config\":null,\"data\":[{\"dimensions\":[{\"label\":\"Neighborhood\"},{\"label\":\"Avg. Price per Sqft.\"},{\"label\":\"Housing Units\"},{\"label\":\"Gross Rental\"}],\"domain\":{\"x\":[0.0,1.0],\"y\":[0.0,1.0]},\"line\":{\"coloraxis\":\"coloraxis\"},\"name\":\"\",\"type\":\"parcats\"}],\"data_sources\":[{\"id\":\"10454\"}],\"layout\":{\"coloraxis\":{\"colorbar\":{\"title\":{\"text\":\"Avg. Price per Sqft.\"}},\"colorscale\":[[0.0,\"#000004\"],[0.1111111111111111,\"#1b0c41\"],[0.2222222222222222,\"#4a0c6b\"],[0.3333333333333333,\"#781c6d\"],[0.4444444444444444,\"#a52c60\"],[0.5555555555555556,\"#cf4446\"],[0.6666666666666666,\"#ed6925\"],[0.7777777777777778,\"#fb9b06\"],[0.8888888888888888,\"#f7d13d\"],[1.0,\"#fcffa4\"]]},\"legend\":{\"tracegroupgap\":0},\"margin\":{\"t\":60},\"template\":{\"data\":{\"bar\":[{\"error_x\":{\"color\":\"#2a3f5f\"},\"error_y\":{\"color\":\"#2a3f5f\"},\"marker\":{\"line\":{\"color\":\"#E5ECF6\",\"width\":0.5}},\"type\":\"bar\"}],\"barpolar\":[{\"marker\":{\"line\":{\"color\":\"#E5ECF6\",\"width\":0.5}},\"type\":\"barpolar\"}],\"carpet\":[{\"aaxis\":{\"endlinecolor\":\"#2a3f5f\",\"gridcolor\":\"white\",\"linecolor\":\"white\",\"minorgridcolor\":\"white\",\"startlinecolor\":\"#2a3f5f\"},\"baxis\":{\"endlinecolor\":\"#2a3f5f\",\"gridcolor\":\"white\",\"linecolor\":\"white\",\"minorgridcolor\":\"white\",\"startlinecolor\":\"#2a3f5f\"},\"type\":\"carpet\"}],\"choropleth\":[{\"colorbar\":{\"outlinewidth\":0,\"ticks\":\"\"},\"type\":\"choropleth\"}],\"contour\":[{\"colorbar\":{\"outlinewidth\":0,\"ticks\":\"\"},\"colorscale\":[[0.0,\"#0d0887\"],[0.1111111111111111,\"#46039f\"],[0.2222222222222222,\"#7201a8\"],[0.3333333333333333,\"#9c179e\"],[0.4444444444444444,\"#bd3786\"],[0.5555555555555556,\"#d8576b\"],[0.6666666666666666,\"#ed7953\"],[0.7777777777777778,\"#fb9f3a\"],[0.8888888888888888,\"#fdca26\"],[1.0,\"#f0f921\"]],\"type\":\"contour\"}],\"contourcarpet\":[{\"colorbar\":{\"outlinewidth\":0,\"ticks\":\"\"},\"type\":\"contourcarpet\"}],\"heatmap\":[{\"colorbar\":{\"outlinewidth\":0,\"ticks\":\"\"},\"colorscale\":[[0.0,\"#0d0887\"],[0.1111111111111111,\"#46039f\"],[0.2222222222222222,\"#7201a8\"],[0.3333333333333333,\"#9c179e\"],[0.4444444444444444,\"#bd3786\"],[0.5555555555555556,\"#d8576b\"],[0.6666666666666666,\"#ed7953\"],[0.7777777777777778,\"#fb9f3a\"],[0.8888888888888888,\"#fdca26\"],[1.0,\"#f0f921\"]],\"type\":\"heatmap\"}],\"heatmapgl\":[{\"colorbar\":{\"outlinewidth\":0,\"ticks\":\"\"},\"colorscale\":[[0.0,\"#0d0887\"],[0.1111111111111111,\"#46039f\"],[0.2222222222222222,\"#7201a8\"],[0.3333333333333333,\"#9c179e\"],[0.4444444444444444,\"#bd3786\"],[0.5555555555555556,\"#d8576b\"],[0.6666666666666666,\"#ed7953\"],[0.7777777777777778,\"#fb9f3a\"],[0.8888888888888888,\"#fdca26\"],[1.0,\"#f0f921\"]],\"type\":\"heatmapgl\"}],\"histogram\":[{\"marker\":{\"colorbar\":{\"outlinewidth\":0,\"ticks\":\"\"}},\"type\":\"histogram\"}],\"histogram2d\":[{\"colorbar\":{\"outlinewidth\":0,\"ticks\":\"\"},\"colorscale\":[[0.0,\"#0d0887\"],[0.1111111111111111,\"#46039f\"],[0.2222222222222222,\"#7201a8\"],[0.3333333333333333,\"#9c179e\"],[0.4444444444444444,\"#bd3786\"],[0.5555555555555556,\"#d8576b\"],[0.6666666666666666,\"#ed7953\"],[0.7777777777777778,\"#fb9f3a\"],[0.8888888888888888,\"#fdca26\"],[1.0,\"#f0f921\"]],\"type\":\"histogram2d\"}],\"histogram2dcontour\":[{\"colorbar\":{\"outlinewidth\":0,\"ticks\":\"\"},\"colorscale\":[[0.0,\"#0d0887\"],[0.1111111111111111,\"#46039f\"],[0.2222222222222222,\"#7201a8\"],[0.3333333333333333,\"#9c179e\"],[0.4444444444444444,\"#bd3786\"],[0.5555555555555556,\"#d8576b\"],[0.6666666666666666,\"#ed7953\"],[0.7777777777777778,\"#fb9f3a\"],[0.8888888888888888,\"#fdca26\"],[1.0,\"#f0f921\"]],\"type\":\"histogram2dcontour\"}],\"mesh3d\":[{\"colorbar\":{\"outlinewidth\":0,\"ticks\":\"\"},\"type\":\"mesh3d\"}],\"parcoords\":[{\"line\":{\"colorbar\":{\"outlinewidth\":0,\"ticks\":\"\"}},\"type\":\"parcoords\"}],\"pie\":[{\"automargin\":true,\"type\":\"pie\"}],\"scatter\":[{\"marker\":{\"colorbar\":{\"outlinewidth\":0,\"ticks\":\"\"}},\"type\":\"scatter\"}],\"scatter3d\":[{\"line\":{\"colorbar\":{\"outlinewidth\":0,\"ticks\":\"\"}},\"marker\":{\"colorbar\":{\"outlinewidth\":0,\"ticks\":\"\"}},\"type\":\"scatter3d\"}],\"scattercarpet\":[{\"marker\":{\"colorbar\":{\"outlinewidth\":0,\"ticks\":\"\"}},\"type\":\"scattercarpet\"}],\"scattergeo\":[{\"marker\":{\"colorbar\":{\"outlinewidth\":0,\"ticks\":\"\"}},\"type\":\"scattergeo\"}],\"scattergl\":[{\"marker\":{\"colorbar\":{\"outlinewidth\":0,\"ticks\":\"\"}},\"type\":\"scattergl\"}],\"scattermapbox\":[{\"marker\":{\"colorbar\":{\"outlinewidth\":0,\"ticks\":\"\"}},\"type\":\"scattermapbox\"}],\"scatterpolar\":[{\"marker\":{\"colorbar\":{\"outlinewidth\":0,\"ticks\":\"\"}},\"type\":\"scatterpolar\"}],\"scatterpolargl\":[{\"marker\":{\"colorbar\":{\"outlinewidth\":0,\"ticks\":\"\"}},\"type\":\"scatterpolargl\"}],\"scatterternary\":[{\"marker\":{\"colorbar\":{\"outlinewidth\":0,\"ticks\":\"\"}},\"type\":\"scatterternary\"}],\"surface\":[{\"colorbar\":{\"outlinewidth\":0,\"ticks\":\"\"},\"colorscale\":[[0.0,\"#0d0887\"],[0.1111111111111111,\"#46039f\"],[0.2222222222222222,\"#7201a8\"],[0.3333333333333333,\"#9c179e\"],[0.4444444444444444,\"#bd3786\"],[0.5555555555555556,\"#d8576b\"],[0.6666666666666666,\"#ed7953\"],[0.7777777777777778,\"#fb9f3a\"],[0.8888888888888888,\"#fdca26\"],[1.0,\"#f0f921\"]],\"type\":\"surface\"}],\"table\":[{\"cells\":{\"fill\":{\"color\":\"#EBF0F8\"},\"line\":{\"color\":\"white\"}},\"header\":{\"fill\":{\"color\":\"#C8D4E3\"},\"line\":{\"color\":\"white\"}},\"type\":\"table\"}]},\"layout\":{\"annotationdefaults\":{\"arrowcolor\":\"#2a3f5f\",\"arrowhead\":0,\"arrowwidth\":1},\"autotypenumbers\":\"strict\",\"coloraxis\":{\"colorbar\":{\"outlinewidth\":0,\"ticks\":\"\"}},\"colorscale\":{\"diverging\":[[0,\"#8e0152\"],[0.1,\"#c51b7d\"],[0.2,\"#de77ae\"],[0.3,\"#f1b6da\"],[0.4,\"#fde0ef\"],[0.5,\"#f7f7f7\"],[0.6,\"#e6f5d0\"],[0.7,\"#b8e186\"],[0.8,\"#7fbc41\"],[0.9,\"#4d9221\"],[1,\"#276419\"]],\"sequential\":[[0.0,\"#0d0887\"],[0.1111111111111111,\"#46039f\"],[0.2222222222222222,\"#7201a8\"],[0.3333333333333333,\"#9c179e\"],[0.4444444444444444,\"#bd3786\"],[0.5555555555555556,\"#d8576b\"],[0.6666666666666666,\"#ed7953\"],[0.7777777777777778,\"#fb9f3a\"],[0.8888888888888888,\"#fdca26\"],[1.0,\"#f0f921\"]],\"sequentialminus\":[[0.0,\"#0d0887\"],[0.1111111111111111,\"#46039f\"],[0.2222222222222222,\"#7201a8\"],[0.3333333333333333,\"#9c179e\"],[0.4444444444444444,\"#bd3786\"],[0.5555555555555556,\"#d8576b\"],[0.6666666666666666,\"#ed7953\"],[0.7777777777777778,\"#fb9f3a\"],[0.8888888888888888,\"#fdca26\"],[1.0,\"#f0f921\"]]},\"colorway\":[\"#636efa\",\"#EF553B\",\"#00cc96\",\"#ab63fa\",\"#FFA15A\",\"#19d3f3\",\"#FF6692\",\"#B6E880\",\"#FF97FF\",\"#FECB52\"],\"font\":{\"color\":\"#2a3f5f\"},\"geo\":{\"bgcolor\":\"white\",\"lakecolor\":\"white\",\"landcolor\":\"#E5ECF6\",\"showlakes\":true,\"showland\":true,\"subunitcolor\":\"white\"},\"hoverlabel\":{\"align\":\"left\"},\"hovermode\":\"closest\",\"mapbox\":{\"style\":\"light\"},\"paper_bgcolor\":\"white\",\"plot_bgcolor\":\"#E5ECF6\",\"polar\":{\"angularaxis\":{\"gridcolor\":\"white\",\"linecolor\":\"white\",\"ticks\":\"\"},\"bgcolor\":\"#E5ECF6\",\"radialaxis\":{\"gridcolor\":\"white\",\"linecolor\":\"white\",\"ticks\":\"\"}},\"scene\":{\"xaxis\":{\"backgroundcolor\":\"#E5ECF6\",\"gridcolor\":\"white\",\"gridwidth\":2,\"linecolor\":\"white\",\"showbackground\":true,\"ticks\":\"\",\"zerolinecolor\":\"white\"},\"yaxis\":{\"backgroundcolor\":\"#E5ECF6\",\"gridcolor\":\"white\",\"gridwidth\":2,\"linecolor\":\"white\",\"showbackground\":true,\"ticks\":\"\",\"zerolinecolor\":\"white\"},\"zaxis\":{\"backgroundcolor\":\"#E5ECF6\",\"gridcolor\":\"white\",\"gridwidth\":2,\"linecolor\":\"white\",\"showbackground\":true,\"ticks\":\"\",\"zerolinecolor\":\"white\"}},\"shapedefaults\":{\"line\":{\"color\":\"#2a3f5f\"}},\"ternary\":{\"aaxis\":{\"gridcolor\":\"white\",\"linecolor\":\"white\",\"ticks\":\"\"},\"baxis\":{\"gridcolor\":\"white\",\"linecolor\":\"white\",\"ticks\":\"\"},\"bgcolor\":\"#E5ECF6\",\"caxis\":{\"gridcolor\":\"white\",\"linecolor\":\"white\",\"ticks\":\"\"}},\"title\":{\"x\":0.05},\"xaxis\":{\"automargin\":true,\"gridcolor\":\"white\",\"linecolor\":\"white\",\"ticks\":\"\",\"title\":{\"standoff\":15},\"zerolinecolor\":\"white\",\"zerolinewidth\":2},\"yaxis\":{\"automargin\":true,\"gridcolor\":\"white\",\"linecolor\":\"white\",\"ticks\":\"\",\"title\":{\"standoff\":15},\"zerolinecolor\":\"white\",\"zerolinewidth\":2}}}},\"margin\":[5,5,5,5],\"name\":\"Plotly13070\",\"viewport_update_throttle\":200},\"id\":\"10455\",\"type\":\"panel.models.plotly.PlotlyPlot\"},{\"attributes\":{\"axis_label\":\"\",\"bounds\":\"auto\",\"formatter\":{\"id\":\"10303\"},\"major_label_orientation\":\"horizontal\",\"ticker\":{\"id\":\"10277\"}},\"id\":\"10276\",\"type\":\"LinearAxis\"},{\"attributes\":{\"axis_label\":\"year\",\"bounds\":\"auto\",\"formatter\":{\"id\":\"10179\"},\"major_label_orientation\":\"horizontal\",\"ticker\":{\"id\":\"10152\"}},\"id\":\"10151\",\"type\":\"CategoricalAxis\"},{\"attributes\":{\"source\":{\"id\":\"10421\"}},\"id\":\"10428\",\"type\":\"CDSView\"},{\"attributes\":{\"source\":{\"id\":\"10293\"}},\"id\":\"10300\",\"type\":\"CDSView\"},{\"attributes\":{},\"id\":\"10160\",\"type\":\"WheelZoomTool\"},{\"attributes\":{},\"id\":\"10408\",\"type\":\"SaveTool\"},{\"attributes\":{\"data_source\":{\"id\":\"10293\"},\"glyph\":{\"id\":\"10296\"},\"hover_glyph\":null,\"muted_glyph\":{\"id\":\"10298\"},\"nonselection_glyph\":{\"id\":\"10297\"},\"selection_glyph\":null,\"view\":{\"id\":\"10300\"}},\"id\":\"10299\",\"type\":\"GlyphRenderer\"},{\"attributes\":{},\"id\":\"10409\",\"type\":\"PanTool\"},{\"attributes\":{},\"id\":\"10412\",\"type\":\"ResetTool\"},{\"attributes\":{},\"id\":\"10336\",\"type\":\"LinearScale\"},{\"attributes\":{},\"id\":\"10410\",\"type\":\"WheelZoomTool\"},{\"attributes\":{},\"id\":\"10338\",\"type\":\"LinearScale\"},{\"attributes\":{},\"id\":\"10179\",\"type\":\"CategoricalTickFormatter\"},{\"attributes\":{},\"id\":\"10280\",\"type\":\"SaveTool\"},{\"attributes\":{\"overlay\":{\"id\":\"10413\"}},\"id\":\"10411\",\"type\":\"BoxZoomTool\"},{\"attributes\":{\"axis_label\":\"year\",\"bounds\":\"auto\",\"formatter\":{\"id\":\"10369\"},\"major_label_orientation\":\"horizontal\",\"ticker\":{\"id\":\"10341\"}},\"id\":\"10340\",\"type\":\"LinearAxis\"},{\"attributes\":{},\"id\":\"10281\",\"type\":\"PanTool\"},{\"attributes\":{},\"id\":\"10284\",\"type\":\"ResetTool\"},{\"attributes\":{\"overlay\":{\"id\":\"10163\"}},\"id\":\"10161\",\"type\":\"BoxZoomTool\"},{\"attributes\":{},\"id\":\"10282\",\"type\":\"WheelZoomTool\"},{\"attributes\":{},\"id\":\"10371\",\"type\":\"BasicTickFormatter\"},{\"attributes\":{\"reload\":false},\"id\":\"10737\",\"type\":\"panel.models.location.Location\"},{\"attributes\":{\"overlay\":{\"id\":\"10285\"}},\"id\":\"10283\",\"type\":\"BoxZoomTool\"},{\"attributes\":{\"axis\":{\"id\":\"10344\"},\"dimension\":1,\"grid_line_color\":null,\"ticker\":null},\"id\":\"10347\",\"type\":\"Grid\"},{\"attributes\":{\"fill_color\":{\"value\":\"#1f77b3\"},\"top\":{\"field\":\"sale_price_sqr_foot\"},\"width\":{\"value\":0.8},\"x\":{\"field\":\"neighborhood\"}},\"id\":\"10424\",\"type\":\"VBar\"},{\"attributes\":{\"text\":\"Average Price per Sqft in Alamo Square\",\"text_color\":{\"value\":\"black\"},\"text_font_size\":{\"value\":\"12pt\"}},\"id\":\"10332\",\"type\":\"Title\"},{\"attributes\":{\"source\":{\"id\":\"10171\"}},\"id\":\"10178\",\"type\":\"CDSView\"},{\"attributes\":{},\"id\":\"10149\",\"type\":\"LinearScale\"},{\"attributes\":{\"data_source\":{\"id\":\"10171\"},\"glyph\":{\"id\":\"10174\"},\"hover_glyph\":null,\"muted_glyph\":{\"id\":\"10176\"},\"nonselection_glyph\":{\"id\":\"10175\"},\"selection_glyph\":null,\"view\":{\"id\":\"10178\"}},\"id\":\"10177\",\"type\":\"GlyphRenderer\"},{\"attributes\":{\"callback\":null,\"renderers\":[{\"id\":\"10427\"}],\"tags\":[\"hv_created\"],\"tooltips\":[[\"neighborhood\",\"@{neighborhood}\"],[\"sale_price_sqr_foot\",\"@{sale_price_sqr_foot}\"]]},\"id\":\"10391\",\"type\":\"HoverTool\"},{\"attributes\":{},\"id\":\"10158\",\"type\":\"SaveTool\"},{\"attributes\":{\"child\":{\"id\":\"10450\"},\"name\":\"Column13072\",\"title\":\"Parallel\"},\"id\":\"10456\",\"type\":\"Panel\"},{\"attributes\":{\"below\":[{\"id\":\"10272\"}],\"center\":[{\"id\":\"10275\"},{\"id\":\"10279\"}],\"left\":[{\"id\":\"10276\"}],\"margin\":[5,5,5,5],\"min_border_bottom\":10,\"min_border_left\":10,\"min_border_right\":10,\"min_border_top\":10,\"plot_height\":300,\"plot_width\":700,\"renderers\":[{\"id\":\"10299\"}],\"sizing_mode\":\"fixed\",\"title\":{\"id\":\"10264\"},\"toolbar\":{\"id\":\"10286\"},\"x_range\":{\"id\":\"10260\"},\"x_scale\":{\"id\":\"10268\"},\"y_range\":{\"id\":\"10261\"},\"y_scale\":{\"id\":\"10270\"}},\"id\":\"10263\",\"subtype\":\"Figure\",\"type\":\"Plot\"},{\"attributes\":{},\"id\":\"10429\",\"type\":\"CategoricalTickFormatter\"},{\"attributes\":{\"end\":929.3801355198136,\"reset_end\":733.2177371101802,\"reset_start\":306.3294011864627,\"start\":0.0,\"tags\":[[[\"sale_price_sqr_foot\",\"sale_price_sqr_foot\",null]]]},\"id\":\"10261\",\"type\":\"Range1d\"},{\"attributes\":{},\"id\":\"10341\",\"type\":\"BasicTicker\"},{\"attributes\":{\"_render_count\":0,\"config\":null,\"data\":[{\"dimensions\":[{\"label\":\"sale_price_sqr_foot\"},{\"label\":\"housing_units\"},{\"label\":\"gross_rent\"}],\"domain\":{\"x\":[0.0,1.0],\"y\":[0.0,1.0]},\"line\":{\"coloraxis\":\"coloraxis\"},\"name\":\"\",\"type\":\"parcoords\"}],\"data_sources\":[{\"id\":\"10452\"}],\"layout\":{\"coloraxis\":{\"colorbar\":{\"title\":{\"text\":\"sale_price_sqr_foot\"}},\"colorscale\":[[0.0,\"#0d0887\"],[0.1111111111111111,\"#46039f\"],[0.2222222222222222,\"#7201a8\"],[0.3333333333333333,\"#9c179e\"],[0.4444444444444444,\"#bd3786\"],[0.5555555555555556,\"#d8576b\"],[0.6666666666666666,\"#ed7953\"],[0.7777777777777778,\"#fb9f3a\"],[0.8888888888888888,\"#fdca26\"],[1.0,\"#f0f921\"]]},\"legend\":{\"tracegroupgap\":0},\"margin\":{\"t\":60},\"template\":{\"data\":{\"bar\":[{\"error_x\":{\"color\":\"#2a3f5f\"},\"error_y\":{\"color\":\"#2a3f5f\"},\"marker\":{\"line\":{\"color\":\"#E5ECF6\",\"width\":0.5}},\"type\":\"bar\"}],\"barpolar\":[{\"marker\":{\"line\":{\"color\":\"#E5ECF6\",\"width\":0.5}},\"type\":\"barpolar\"}],\"carpet\":[{\"aaxis\":{\"endlinecolor\":\"#2a3f5f\",\"gridcolor\":\"white\",\"linecolor\":\"white\",\"minorgridcolor\":\"white\",\"startlinecolor\":\"#2a3f5f\"},\"baxis\":{\"endlinecolor\":\"#2a3f5f\",\"gridcolor\":\"white\",\"linecolor\":\"white\",\"minorgridcolor\":\"white\",\"startlinecolor\":\"#2a3f5f\"},\"type\":\"carpet\"}],\"choropleth\":[{\"colorbar\":{\"outlinewidth\":0,\"ticks\":\"\"},\"type\":\"choropleth\"}],\"contour\":[{\"colorbar\":{\"outlinewidth\":0,\"ticks\":\"\"},\"colorscale\":[[0.0,\"#0d0887\"],[0.1111111111111111,\"#46039f\"],[0.2222222222222222,\"#7201a8\"],[0.3333333333333333,\"#9c179e\"],[0.4444444444444444,\"#bd3786\"],[0.5555555555555556,\"#d8576b\"],[0.6666666666666666,\"#ed7953\"],[0.7777777777777778,\"#fb9f3a\"],[0.8888888888888888,\"#fdca26\"],[1.0,\"#f0f921\"]],\"type\":\"contour\"}],\"contourcarpet\":[{\"colorbar\":{\"outlinewidth\":0,\"ticks\":\"\"},\"type\":\"contourcarpet\"}],\"heatmap\":[{\"colorbar\":{\"outlinewidth\":0,\"ticks\":\"\"},\"colorscale\":[[0.0,\"#0d0887\"],[0.1111111111111111,\"#46039f\"],[0.2222222222222222,\"#7201a8\"],[0.3333333333333333,\"#9c179e\"],[0.4444444444444444,\"#bd3786\"],[0.5555555555555556,\"#d8576b\"],[0.6666666666666666,\"#ed7953\"],[0.7777777777777778,\"#fb9f3a\"],[0.8888888888888888,\"#fdca26\"],[1.0,\"#f0f921\"]],\"type\":\"heatmap\"}],\"heatmapgl\":[{\"colorbar\":{\"outlinewidth\":0,\"ticks\":\"\"},\"colorscale\":[[0.0,\"#0d0887\"],[0.1111111111111111,\"#46039f\"],[0.2222222222222222,\"#7201a8\"],[0.3333333333333333,\"#9c179e\"],[0.4444444444444444,\"#bd3786\"],[0.5555555555555556,\"#d8576b\"],[0.6666666666666666,\"#ed7953\"],[0.7777777777777778,\"#fb9f3a\"],[0.8888888888888888,\"#fdca26\"],[1.0,\"#f0f921\"]],\"type\":\"heatmapgl\"}],\"histogram\":[{\"marker\":{\"colorbar\":{\"outlinewidth\":0,\"ticks\":\"\"}},\"type\":\"histogram\"}],\"histogram2d\":[{\"colorbar\":{\"outlinewidth\":0,\"ticks\":\"\"},\"colorscale\":[[0.0,\"#0d0887\"],[0.1111111111111111,\"#46039f\"],[0.2222222222222222,\"#7201a8\"],[0.3333333333333333,\"#9c179e\"],[0.4444444444444444,\"#bd3786\"],[0.5555555555555556,\"#d8576b\"],[0.6666666666666666,\"#ed7953\"],[0.7777777777777778,\"#fb9f3a\"],[0.8888888888888888,\"#fdca26\"],[1.0,\"#f0f921\"]],\"type\":\"histogram2d\"}],\"histogram2dcontour\":[{\"colorbar\":{\"outlinewidth\":0,\"ticks\":\"\"},\"colorscale\":[[0.0,\"#0d0887\"],[0.1111111111111111,\"#46039f\"],[0.2222222222222222,\"#7201a8\"],[0.3333333333333333,\"#9c179e\"],[0.4444444444444444,\"#bd3786\"],[0.5555555555555556,\"#d8576b\"],[0.6666666666666666,\"#ed7953\"],[0.7777777777777778,\"#fb9f3a\"],[0.8888888888888888,\"#fdca26\"],[1.0,\"#f0f921\"]],\"type\":\"histogram2dcontour\"}],\"mesh3d\":[{\"colorbar\":{\"outlinewidth\":0,\"ticks\":\"\"},\"type\":\"mesh3d\"}],\"parcoords\":[{\"line\":{\"colorbar\":{\"outlinewidth\":0,\"ticks\":\"\"}},\"type\":\"parcoords\"}],\"pie\":[{\"automargin\":true,\"type\":\"pie\"}],\"scatter\":[{\"marker\":{\"colorbar\":{\"outlinewidth\":0,\"ticks\":\"\"}},\"type\":\"scatter\"}],\"scatter3d\":[{\"line\":{\"colorbar\":{\"outlinewidth\":0,\"ticks\":\"\"}},\"marker\":{\"colorbar\":{\"outlinewidth\":0,\"ticks\":\"\"}},\"type\":\"scatter3d\"}],\"scattercarpet\":[{\"marker\":{\"colorbar\":{\"outlinewidth\":0,\"ticks\":\"\"}},\"type\":\"scattercarpet\"}],\"scattergeo\":[{\"marker\":{\"colorbar\":{\"outlinewidth\":0,\"ticks\":\"\"}},\"type\":\"scattergeo\"}],\"scattergl\":[{\"marker\":{\"colorbar\":{\"outlinewidth\":0,\"ticks\":\"\"}},\"type\":\"scattergl\"}],\"scattermapbox\":[{\"marker\":{\"colorbar\":{\"outlinewidth\":0,\"ticks\":\"\"}},\"type\":\"scattermapbox\"}],\"scatterpolar\":[{\"marker\":{\"colorbar\":{\"outlinewidth\":0,\"ticks\":\"\"}},\"type\":\"scatterpolar\"}],\"scatterpolargl\":[{\"marker\":{\"colorbar\":{\"outlinewidth\":0,\"ticks\":\"\"}},\"type\":\"scatterpolargl\"}],\"scatterternary\":[{\"marker\":{\"colorbar\":{\"outlinewidth\":0,\"ticks\":\"\"}},\"type\":\"scatterternary\"}],\"surface\":[{\"colorbar\":{\"outlinewidth\":0,\"ticks\":\"\"},\"colorscale\":[[0.0,\"#0d0887\"],[0.1111111111111111,\"#46039f\"],[0.2222222222222222,\"#7201a8\"],[0.3333333333333333,\"#9c179e\"],[0.4444444444444444,\"#bd3786\"],[0.5555555555555556,\"#d8576b\"],[0.6666666666666666,\"#ed7953\"],[0.7777777777777778,\"#fb9f3a\"],[0.8888888888888888,\"#fdca26\"],[1.0,\"#f0f921\"]],\"type\":\"surface\"}],\"table\":[{\"cells\":{\"fill\":{\"color\":\"#EBF0F8\"},\"line\":{\"color\":\"white\"}},\"header\":{\"fill\":{\"color\":\"#C8D4E3\"},\"line\":{\"color\":\"white\"}},\"type\":\"table\"}]},\"layout\":{\"annotationdefaults\":{\"arrowcolor\":\"#2a3f5f\",\"arrowhead\":0,\"arrowwidth\":1},\"autotypenumbers\":\"strict\",\"coloraxis\":{\"colorbar\":{\"outlinewidth\":0,\"ticks\":\"\"}},\"colorscale\":{\"diverging\":[[0,\"#8e0152\"],[0.1,\"#c51b7d\"],[0.2,\"#de77ae\"],[0.3,\"#f1b6da\"],[0.4,\"#fde0ef\"],[0.5,\"#f7f7f7\"],[0.6,\"#e6f5d0\"],[0.7,\"#b8e186\"],[0.8,\"#7fbc41\"],[0.9,\"#4d9221\"],[1,\"#276419\"]],\"sequential\":[[0.0,\"#0d0887\"],[0.1111111111111111,\"#46039f\"],[0.2222222222222222,\"#7201a8\"],[0.3333333333333333,\"#9c179e\"],[0.4444444444444444,\"#bd3786\"],[0.5555555555555556,\"#d8576b\"],[0.6666666666666666,\"#ed7953\"],[0.7777777777777778,\"#fb9f3a\"],[0.8888888888888888,\"#fdca26\"],[1.0,\"#f0f921\"]],\"sequentialminus\":[[0.0,\"#0d0887\"],[0.1111111111111111,\"#46039f\"],[0.2222222222222222,\"#7201a8\"],[0.3333333333333333,\"#9c179e\"],[0.4444444444444444,\"#bd3786\"],[0.5555555555555556,\"#d8576b\"],[0.6666666666666666,\"#ed7953\"],[0.7777777777777778,\"#fb9f3a\"],[0.8888888888888888,\"#fdca26\"],[1.0,\"#f0f921\"]]},\"colorway\":[\"#636efa\",\"#EF553B\",\"#00cc96\",\"#ab63fa\",\"#FFA15A\",\"#19d3f3\",\"#FF6692\",\"#B6E880\",\"#FF97FF\",\"#FECB52\"],\"font\":{\"color\":\"#2a3f5f\"},\"geo\":{\"bgcolor\":\"white\",\"lakecolor\":\"white\",\"landcolor\":\"#E5ECF6\",\"showlakes\":true,\"showland\":true,\"subunitcolor\":\"white\"},\"hoverlabel\":{\"align\":\"left\"},\"hovermode\":\"closest\",\"mapbox\":{\"style\":\"light\"},\"paper_bgcolor\":\"white\",\"plot_bgcolor\":\"#E5ECF6\",\"polar\":{\"angularaxis\":{\"gridcolor\":\"white\",\"linecolor\":\"white\",\"ticks\":\"\"},\"bgcolor\":\"#E5ECF6\",\"radialaxis\":{\"gridcolor\":\"white\",\"linecolor\":\"white\",\"ticks\":\"\"}},\"scene\":{\"xaxis\":{\"backgroundcolor\":\"#E5ECF6\",\"gridcolor\":\"white\",\"gridwidth\":2,\"linecolor\":\"white\",\"showbackground\":true,\"ticks\":\"\",\"zerolinecolor\":\"white\"},\"yaxis\":{\"backgroundcolor\":\"#E5ECF6\",\"gridcolor\":\"white\",\"gridwidth\":2,\"linecolor\":\"white\",\"showbackground\":true,\"ticks\":\"\",\"zerolinecolor\":\"white\"},\"zaxis\":{\"backgroundcolor\":\"#E5ECF6\",\"gridcolor\":\"white\",\"gridwidth\":2,\"linecolor\":\"white\",\"showbackground\":true,\"ticks\":\"\",\"zerolinecolor\":\"white\"}},\"shapedefaults\":{\"line\":{\"color\":\"#2a3f5f\"}},\"ternary\":{\"aaxis\":{\"gridcolor\":\"white\",\"linecolor\":\"white\",\"ticks\":\"\"},\"baxis\":{\"gridcolor\":\"white\",\"linecolor\":\"white\",\"ticks\":\"\"},\"bgcolor\":\"#E5ECF6\",\"caxis\":{\"gridcolor\":\"white\",\"linecolor\":\"white\",\"ticks\":\"\"}},\"title\":{\"x\":0.05},\"xaxis\":{\"automargin\":true,\"gridcolor\":\"white\",\"linecolor\":\"white\",\"ticks\":\"\",\"title\":{\"standoff\":15},\"zerolinecolor\":\"white\",\"zerolinewidth\":2},\"yaxis\":{\"automargin\":true,\"gridcolor\":\"white\",\"linecolor\":\"white\",\"ticks\":\"\",\"title\":{\"standoff\":15},\"zerolinecolor\":\"white\",\"zerolinewidth\":2}}}},\"margin\":[5,5,5,5],\"name\":\"Plotly13068\",\"viewport_update_throttle\":200},\"id\":\"10453\",\"type\":\"panel.models.plotly.PlotlyPlot\"},{\"attributes\":{\"active_drag\":\"auto\",\"active_inspect\":\"auto\",\"active_multi\":null,\"active_scroll\":\"auto\",\"active_tap\":\"auto\",\"tools\":[{\"id\":\"10391\"},{\"id\":\"10408\"},{\"id\":\"10409\"},{\"id\":\"10410\"},{\"id\":\"10411\"},{\"id\":\"10412\"}]},\"id\":\"10414\",\"type\":\"Toolbar\"},{\"attributes\":{\"bottom_units\":\"screen\",\"fill_alpha\":0.5,\"fill_color\":\"lightgrey\",\"left_units\":\"screen\",\"level\":\"overlay\",\"line_alpha\":1.0,\"line_color\":\"black\",\"line_dash\":[4,4],\"line_width\":2,\"right_units\":\"screen\",\"top_units\":\"screen\"},\"id\":\"10413\",\"type\":\"BoxAnnotation\"},{\"attributes\":{\"below\":[{\"id\":\"10211\"}],\"center\":[{\"id\":\"10214\"},{\"id\":\"10218\"}],\"left\":[{\"id\":\"10215\"}],\"margin\":[5,5,5,5],\"min_border_bottom\":10,\"min_border_left\":10,\"min_border_right\":10,\"min_border_top\":10,\"plot_height\":300,\"plot_width\":700,\"renderers\":[{\"id\":\"10238\"}],\"sizing_mode\":\"fixed\",\"title\":{\"id\":\"10203\"},\"toolbar\":{\"id\":\"10225\"},\"x_range\":{\"id\":\"10199\"},\"x_scale\":{\"id\":\"10207\"},\"y_range\":{\"id\":\"10200\"},\"y_scale\":{\"id\":\"10209\"}},\"id\":\"10202\",\"subtype\":\"Figure\",\"type\":\"Plot\"},{\"attributes\":{\"end\":2016.0,\"reset_end\":2016.0,\"reset_start\":2010.0,\"start\":2010.0,\"tags\":[[[\"year\",\"year\",null]]]},\"id\":\"10260\",\"type\":\"Range1d\"},{\"attributes\":{\"data\":{\"neighborhood\":[\"Union Square District\",\"Merced Heights\",\"Miraloma Park\",\"Pacific Heights\",\"Westwood Park\",\"Telegraph Hill\",\"Presidio Heights\",\"Cow Hollow\",\"Potrero Hill\",\"South Beach\"],\"sale_price_sqr_foot\":{\"__ndarray__\":\"JRAUMfI/jEB9IrkvwqaIQFx/3pp8XohAFpsVUHKMhUBs0ERas3iFQL0KhXgNJIVAy835O80ahUANV25bts+EQJrMCuEbsIRAya3y7v5QhEA=\",\"dtype\":\"float64\",\"order\":\"little\",\"shape\":[10]}},\"selected\":{\"id\":\"10422\"},\"selection_policy\":{\"id\":\"10439\"}},\"id\":\"10421\",\"type\":\"ColumnDataSource\"},{\"attributes\":{\"line_alpha\":0.1,\"line_color\":\"#1f77b3\",\"line_width\":2,\"x\":{\"field\":\"year\"},\"y\":{\"field\":\"sale_price_sqr_foot\"}},\"id\":\"10365\",\"type\":\"Line\"},{\"attributes\":{\"active_drag\":\"auto\",\"active_inspect\":\"auto\",\"active_multi\":null,\"active_scroll\":\"auto\",\"active_tap\":\"auto\",\"tools\":[{\"id\":\"10262\"},{\"id\":\"10280\"},{\"id\":\"10281\"},{\"id\":\"10282\"},{\"id\":\"10283\"},{\"id\":\"10284\"}]},\"id\":\"10286\",\"type\":\"Toolbar\"},{\"attributes\":{\"data\":{\"gross_rent\":[1239,1530,2324,2971,3528,3739,4390],\"year\":[2010,2011,2012,2013,2014,2015,2016]},\"selected\":{\"id\":\"10233\"},\"selection_policy\":{\"id\":\"10250\"}},\"id\":\"10232\",\"type\":\"ColumnDataSource\"},{\"attributes\":{\"data_source\":{\"id\":\"10361\"},\"glyph\":{\"id\":\"10364\"},\"hover_glyph\":null,\"muted_glyph\":{\"id\":\"10366\"},\"nonselection_glyph\":{\"id\":\"10365\"},\"selection_glyph\":null,\"view\":{\"id\":\"10368\"}},\"id\":\"10367\",\"type\":\"GlyphRenderer\"},{\"attributes\":{\"text\":\"Top 10 Expensive Neighborhood in SFO\",\"text_color\":{\"value\":\"black\"},\"text_font_size\":{\"value\":\"12pt\"}},\"id\":\"10393\",\"type\":\"Title\"},{\"attributes\":{\"data\":{\"dimensions.0.values\":[{\"__ndarray__\":\"JRAUMfI/jEB9IrkvwqaIQFx/3pp8XohAFpsVUHKMhUBs0ERas3iFQL0KhXgNJIVAy835O80ahUANV25bts+EQJrMCuEbsIRAya3y7v5QhEA=\",\"dtype\":\"float64\",\"order\":\"little\",\"shape\":[10]}],\"dimensions.1.values\":[{\"__ndarray__\":\"AAAAAE4JF0EAAAAA8DYXQQAAAAB98hZBAAAAAIQYF0EAAAAAXFUXQQAAAACEGBdBAAAAAIQYF0EAAAAAhBgXQQAAAACEGBdBAAAAAPTvFkE=\",\"dtype\":\"float64\",\"order\":\"little\",\"shape\":[10]}],\"dimensions.2.values\":[{\"__ndarray__\":\"VVVVVVX2o0AAAAAAAKyqQAAAAACA1qBASZIkSZICpkAAAAAAAO6uQEmSJEmSAqZASZIkSZICpkBJkiRJkgKmQEmSJEmSAqZAAAAAAABmoEA=\",\"dtype\":\"float64\",\"order\":\"little\",\"shape\":[10]}],\"line.color\":[{\"__ndarray__\":\"JRAUMfI/jEB9IrkvwqaIQFx/3pp8XohAFpsVUHKMhUBs0ERas3iFQL0KhXgNJIVAy835O80ahUANV25bts+EQJrMCuEbsIRAya3y7v5QhEA=\",\"dtype\":\"float64\",\"order\":\"little\",\"shape\":[10]}]},\"selected\":{\"id\":\"10482\"},\"selection_policy\":{\"id\":\"10483\"}},\"id\":\"10452\",\"type\":\"ColumnDataSource\"},{\"attributes\":{},\"id\":\"10379\",\"type\":\"UnionRenderers\"},{\"attributes\":{\"callback\":null,\"renderers\":[{\"id\":\"10299\"}],\"tags\":[\"hv_created\"],\"tooltips\":[[\"year\",\"@{year}\"],[\"sale_price_sqr_foot\",\"@{sale_price_sqr_foot}\"]]},\"id\":\"10262\",\"type\":\"HoverTool\"},{\"attributes\":{\"bottom_units\":\"screen\",\"fill_alpha\":0.5,\"fill_color\":\"lightgrey\",\"left_units\":\"screen\",\"level\":\"overlay\",\"line_alpha\":1.0,\"line_color\":\"black\",\"line_dash\":[4,4],\"line_width\":2,\"right_units\":\"screen\",\"top_units\":\"screen\"},\"id\":\"10285\",\"type\":\"BoxAnnotation\"},{\"attributes\":{},\"id\":\"10352\",\"type\":\"ResetTool\"},{\"attributes\":{\"fill_alpha\":{\"value\":0.1},\"fill_color\":{\"value\":\"#1f77b3\"},\"line_alpha\":{\"value\":0.1},\"top\":{\"field\":\"sale_price_sqr_foot\"},\"width\":{\"value\":0.8},\"x\":{\"field\":\"neighborhood\"}},\"id\":\"10425\",\"type\":\"VBar\"},{\"attributes\":{\"end\":2016.0,\"reset_end\":2016.0,\"reset_start\":2010.0,\"start\":2010.0,\"tags\":[[[\"year\",\"year\",null]]]},\"id\":\"10199\",\"type\":\"Range1d\"},{\"attributes\":{\"line_alpha\":0.2,\"line_color\":\"#1f77b3\",\"line_width\":2,\"x\":{\"field\":\"year\"},\"y\":{\"field\":\"sale_price_sqr_foot\"}},\"id\":\"10298\",\"type\":\"Line\"},{\"attributes\":{\"callback\":null,\"renderers\":[{\"id\":\"10238\"}],\"tags\":[\"hv_created\"],\"tooltips\":[[\"year\",\"@{year}\"],[\"gross_rent\",\"@{gross_rent}\"]]},\"id\":\"10201\",\"type\":\"HoverTool\"},{\"attributes\":{\"margin\":[5,10,5,10],\"options\":[\"Alamo Square\",\"Anza Vista\",\"Bayview\",\"Buena Vista Park\",\"Central Richmond\",\"Central Sunset\",\"Corona Heights\",\"Cow Hollow\",\"Croker Amazon\",\"Diamond Heights\",\"Downtown \",\"Eureka Valley/Dolores Heights\",\"Excelsior\",\"Financial District North\",\"Financial District South\",\"Forest Knolls\",\"Glen Park\",\"Golden Gate Heights\",\"Haight Ashbury\",\"Hayes Valley\",\"Hunters Point\",\"Ingleside \",\"Inner Mission\",\"Inner Parkside\",\"Inner Richmond\",\"Inner Sunset\",\"Jordan Park/Laurel Heights\",\"Lake --The Presidio\",\"Lone Mountain\",\"Lower Pacific Heights\",\"Marina\",\"Miraloma Park\",\"Mission Bay\",\"Mission Dolores\",\"Mission Terrace\",\"Nob Hill\",\"Noe Valley\",\"Oceanview\",\"Outer Parkside\",\"Outer Richmond \",\"Outer Sunset\",\"Pacific Heights\",\"Park North\",\"Parkside\",\"Parnassus/Ashbury Heights\",\"Portola\",\"Potrero Hill\",\"Presidio Heights\",\"Russian Hill\",\"South Beach\",\"South of Market\",\"Sunnyside\",\"Telegraph Hill\",\"Twin Peaks\",\"Union Square District\",\"Van Ness/ Civic Center\",\"West Portal\",\"Western Addition\",\"Yerba Buena\",\"Bernal Heights \",\"Clarendon Heights\",\"Duboce Triangle\",\"Ingleside Heights\",\"North Beach\",\"North Waterfront\",\"Outer Mission\",\"Westwood Highlands\",\"Merced Heights\",\"Midtown Terrace\",\"Visitacion Valley\",\"Silver Terrace\",\"Westwood Park\",\"Bayview Heights\"],\"title\":\"neighborhood\",\"value\":\"Alamo Square\"},\"id\":\"10326\",\"type\":\"Select\"},{\"attributes\":{\"axis\":{\"id\":\"10340\"},\"grid_line_color\":null,\"ticker\":null},\"id\":\"10343\",\"type\":\"Grid\"},{\"attributes\":{},\"id\":\"10439\",\"type\":\"UnionRenderers\"},{\"attributes\":{\"data\":{\"dimensions.0.values\":[[\"Union Square District\",\"Merced Heights\",\"Miraloma Park\",\"Pacific Heights\",\"Westwood Park\",\"Telegraph Hill\",\"Presidio Heights\",\"Cow Hollow\",\"Potrero Hill\",\"South Beach\"]],\"dimensions.1.values\":[{\"__ndarray__\":\"JRAUMfI/jEB9IrkvwqaIQFx/3pp8XohAFpsVUHKMhUBs0ERas3iFQL0KhXgNJIVAy835O80ahUANV25bts+EQJrMCuEbsIRAya3y7v5QhEA=\",\"dtype\":\"float64\",\"order\":\"little\",\"shape\":[10]}],\"dimensions.2.values\":[{\"__ndarray__\":\"AAAAAE4JF0EAAAAA8DYXQQAAAAB98hZBAAAAAIQYF0EAAAAAXFUXQQAAAACEGBdBAAAAAIQYF0EAAAAAhBgXQQAAAACEGBdBAAAAAPTvFkE=\",\"dtype\":\"float64\",\"order\":\"little\",\"shape\":[10]}],\"dimensions.3.values\":[{\"__ndarray__\":\"VVVVVVX2o0AAAAAAAKyqQAAAAACA1qBASZIkSZICpkAAAAAAAO6uQEmSJEmSAqZASZIkSZICpkBJkiRJkgKmQEmSJEmSAqZAAAAAAABmoEA=\",\"dtype\":\"float64\",\"order\":\"little\",\"shape\":[10]}],\"line.color\":[{\"__ndarray__\":\"JRAUMfI/jEB9IrkvwqaIQFx/3pp8XohAFpsVUHKMhUBs0ERas3iFQL0KhXgNJIVAy835O80ahUANV25bts+EQJrMCuEbsIRAya3y7v5QhEA=\",\"dtype\":\"float64\",\"order\":\"little\",\"shape\":[10]}]},\"selected\":{\"id\":\"10484\"},\"selection_policy\":{\"id\":\"10485\"}},\"id\":\"10454\",\"type\":\"ColumnDataSource\"},{\"attributes\":{\"overlay\":{\"id\":\"10353\"}},\"id\":\"10351\",\"type\":\"BoxZoomTool\"},{\"attributes\":{\"below\":[{\"id\":\"10401\"}],\"center\":[{\"id\":\"10403\"},{\"id\":\"10407\"}],\"left\":[{\"id\":\"10404\"}],\"margin\":[5,5,5,5],\"min_border_bottom\":10,\"min_border_left\":10,\"min_border_right\":10,\"min_border_top\":10,\"plot_height\":300,\"plot_width\":700,\"renderers\":[{\"id\":\"10427\"}],\"sizing_mode\":\"fixed\",\"title\":{\"id\":\"10393\"},\"toolbar\":{\"id\":\"10414\"},\"x_range\":{\"id\":\"10389\"},\"x_scale\":{\"id\":\"10397\"},\"y_range\":{\"id\":\"10261\"},\"y_scale\":{\"id\":\"10399\"}},\"id\":\"10392\",\"subtype\":\"Figure\",\"type\":\"Plot\"},{\"attributes\":{\"end\":4705.1,\"reset_end\":4705.1,\"reset_start\":923.9,\"start\":923.9,\"tags\":[[[\"gross_rent\",\"gross_rent\",null]]]},\"id\":\"10200\",\"type\":\"Range1d\"},{\"attributes\":{\"text\":\"Average Sales Price per Year\",\"text_color\":{\"value\":\"black\"},\"text_font_size\":{\"value\":\"12pt\"}},\"id\":\"10264\",\"type\":\"Title\"},{\"attributes\":{},\"id\":\"10422\",\"type\":\"Selection\"},{\"attributes\":{},\"id\":\"10350\",\"type\":\"WheelZoomTool\"},{\"attributes\":{\"fill_alpha\":{\"value\":0.2},\"fill_color\":{\"value\":\"#1f77b3\"},\"line_alpha\":{\"value\":0.2},\"top\":{\"field\":\"sale_price_sqr_foot\"},\"width\":{\"value\":0.8},\"x\":{\"field\":\"neighborhood\"}},\"id\":\"10426\",\"type\":\"VBar\"},{\"attributes\":{\"_render_count\":0,\"config\":null,\"data\":[{\"hovertemplate\":\"sale_price_sqr_foot=%{marker.size}<br>Lat=%{lat}<br>Lon=%{lon}<br>gross_rent=%{marker.color}<extra></extra>\",\"legendgroup\":\"\",\"marker\":{\"coloraxis\":\"coloraxis\",\"sizemode\":\"area\",\"sizeref\":2.259983144180161},\"mode\":\"markers\",\"name\":\"\",\"showlegend\":false,\"subplot\":\"mapbox\",\"type\":\"scattermapbox\"}],\"data_sources\":[{\"id\":\"10457\"}],\"layout\":{\"coloraxis\":{\"colorbar\":{\"title\":{\"text\":\"gross_rent\"}},\"colorscale\":[[0.0,\"#0d0887\"],[0.1111111111111111,\"#46039f\"],[0.2222222222222222,\"#7201a8\"],[0.3333333333333333,\"#9c179e\"],[0.4444444444444444,\"#bd3786\"],[0.5555555555555556,\"#d8576b\"],[0.6666666666666666,\"#ed7953\"],[0.7777777777777778,\"#fb9f3a\"],[0.8888888888888888,\"#fdca26\"],[1.0,\"#f0f921\"]]},\"legend\":{\"itemsizing\":\"constant\",\"tracegroupgap\":0},\"mapbox\":{\"accesstoken\":\"pk.eyJ1IjoicHNhbnBpdGFrIiwiYSI6ImNranQxNTB1azBlenYyc24zaHZ0dm12YmQifQ.J_dQ-sRVcQ9g20X__qk6iA\",\"center\":{\"lat\":37.76019350684932,\"lon\":-122.43912380821916},\"domain\":{\"x\":[0.0,1.0],\"y\":[0.0,1.0]},\"zoom\":10},\"margin\":{\"t\":60},\"template\":{\"data\":{\"bar\":[{\"error_x\":{\"color\":\"#2a3f5f\"},\"error_y\":{\"color\":\"#2a3f5f\"},\"marker\":{\"line\":{\"color\":\"#E5ECF6\",\"width\":0.5}},\"type\":\"bar\"}],\"barpolar\":[{\"marker\":{\"line\":{\"color\":\"#E5ECF6\",\"width\":0.5}},\"type\":\"barpolar\"}],\"carpet\":[{\"aaxis\":{\"endlinecolor\":\"#2a3f5f\",\"gridcolor\":\"white\",\"linecolor\":\"white\",\"minorgridcolor\":\"white\",\"startlinecolor\":\"#2a3f5f\"},\"baxis\":{\"endlinecolor\":\"#2a3f5f\",\"gridcolor\":\"white\",\"linecolor\":\"white\",\"minorgridcolor\":\"white\",\"startlinecolor\":\"#2a3f5f\"},\"type\":\"carpet\"}],\"choropleth\":[{\"colorbar\":{\"outlinewidth\":0,\"ticks\":\"\"},\"type\":\"choropleth\"}],\"contour\":[{\"colorbar\":{\"outlinewidth\":0,\"ticks\":\"\"},\"colorscale\":[[0.0,\"#0d0887\"],[0.1111111111111111,\"#46039f\"],[0.2222222222222222,\"#7201a8\"],[0.3333333333333333,\"#9c179e\"],[0.4444444444444444,\"#bd3786\"],[0.5555555555555556,\"#d8576b\"],[0.6666666666666666,\"#ed7953\"],[0.7777777777777778,\"#fb9f3a\"],[0.8888888888888888,\"#fdca26\"],[1.0,\"#f0f921\"]],\"type\":\"contour\"}],\"contourcarpet\":[{\"colorbar\":{\"outlinewidth\":0,\"ticks\":\"\"},\"type\":\"contourcarpet\"}],\"heatmap\":[{\"colorbar\":{\"outlinewidth\":0,\"ticks\":\"\"},\"colorscale\":[[0.0,\"#0d0887\"],[0.1111111111111111,\"#46039f\"],[0.2222222222222222,\"#7201a8\"],[0.3333333333333333,\"#9c179e\"],[0.4444444444444444,\"#bd3786\"],[0.5555555555555556,\"#d8576b\"],[0.6666666666666666,\"#ed7953\"],[0.7777777777777778,\"#fb9f3a\"],[0.8888888888888888,\"#fdca26\"],[1.0,\"#f0f921\"]],\"type\":\"heatmap\"}],\"heatmapgl\":[{\"colorbar\":{\"outlinewidth\":0,\"ticks\":\"\"},\"colorscale\":[[0.0,\"#0d0887\"],[0.1111111111111111,\"#46039f\"],[0.2222222222222222,\"#7201a8\"],[0.3333333333333333,\"#9c179e\"],[0.4444444444444444,\"#bd3786\"],[0.5555555555555556,\"#d8576b\"],[0.6666666666666666,\"#ed7953\"],[0.7777777777777778,\"#fb9f3a\"],[0.8888888888888888,\"#fdca26\"],[1.0,\"#f0f921\"]],\"type\":\"heatmapgl\"}],\"histogram\":[{\"marker\":{\"colorbar\":{\"outlinewidth\":0,\"ticks\":\"\"}},\"type\":\"histogram\"}],\"histogram2d\":[{\"colorbar\":{\"outlinewidth\":0,\"ticks\":\"\"},\"colorscale\":[[0.0,\"#0d0887\"],[0.1111111111111111,\"#46039f\"],[0.2222222222222222,\"#7201a8\"],[0.3333333333333333,\"#9c179e\"],[0.4444444444444444,\"#bd3786\"],[0.5555555555555556,\"#d8576b\"],[0.6666666666666666,\"#ed7953\"],[0.7777777777777778,\"#fb9f3a\"],[0.8888888888888888,\"#fdca26\"],[1.0,\"#f0f921\"]],\"type\":\"histogram2d\"}],\"histogram2dcontour\":[{\"colorbar\":{\"outlinewidth\":0,\"ticks\":\"\"},\"colorscale\":[[0.0,\"#0d0887\"],[0.1111111111111111,\"#46039f\"],[0.2222222222222222,\"#7201a8\"],[0.3333333333333333,\"#9c179e\"],[0.4444444444444444,\"#bd3786\"],[0.5555555555555556,\"#d8576b\"],[0.6666666666666666,\"#ed7953\"],[0.7777777777777778,\"#fb9f3a\"],[0.8888888888888888,\"#fdca26\"],[1.0,\"#f0f921\"]],\"type\":\"histogram2dcontour\"}],\"mesh3d\":[{\"colorbar\":{\"outlinewidth\":0,\"ticks\":\"\"},\"type\":\"mesh3d\"}],\"parcoords\":[{\"line\":{\"colorbar\":{\"outlinewidth\":0,\"ticks\":\"\"}},\"type\":\"parcoords\"}],\"pie\":[{\"automargin\":true,\"type\":\"pie\"}],\"scatter\":[{\"marker\":{\"colorbar\":{\"outlinewidth\":0,\"ticks\":\"\"}},\"type\":\"scatter\"}],\"scatter3d\":[{\"line\":{\"colorbar\":{\"outlinewidth\":0,\"ticks\":\"\"}},\"marker\":{\"colorbar\":{\"outlinewidth\":0,\"ticks\":\"\"}},\"type\":\"scatter3d\"}],\"scattercarpet\":[{\"marker\":{\"colorbar\":{\"outlinewidth\":0,\"ticks\":\"\"}},\"type\":\"scattercarpet\"}],\"scattergeo\":[{\"marker\":{\"colorbar\":{\"outlinewidth\":0,\"ticks\":\"\"}},\"type\":\"scattergeo\"}],\"scattergl\":[{\"marker\":{\"colorbar\":{\"outlinewidth\":0,\"ticks\":\"\"}},\"type\":\"scattergl\"}],\"scattermapbox\":[{\"marker\":{\"colorbar\":{\"outlinewidth\":0,\"ticks\":\"\"}},\"type\":\"scattermapbox\"}],\"scatterpolar\":[{\"marker\":{\"colorbar\":{\"outlinewidth\":0,\"ticks\":\"\"}},\"type\":\"scatterpolar\"}],\"scatterpolargl\":[{\"marker\":{\"colorbar\":{\"outlinewidth\":0,\"ticks\":\"\"}},\"type\":\"scatterpolargl\"}],\"scatterternary\":[{\"marker\":{\"colorbar\":{\"outlinewidth\":0,\"ticks\":\"\"}},\"type\":\"scatterternary\"}],\"surface\":[{\"colorbar\":{\"outlinewidth\":0,\"ticks\":\"\"},\"colorscale\":[[0.0,\"#0d0887\"],[0.1111111111111111,\"#46039f\"],[0.2222222222222222,\"#7201a8\"],[0.3333333333333333,\"#9c179e\"],[0.4444444444444444,\"#bd3786\"],[0.5555555555555556,\"#d8576b\"],[0.6666666666666666,\"#ed7953\"],[0.7777777777777778,\"#fb9f3a\"],[0.8888888888888888,\"#fdca26\"],[1.0,\"#f0f921\"]],\"type\":\"surface\"}],\"table\":[{\"cells\":{\"fill\":{\"color\":\"#EBF0F8\"},\"line\":{\"color\":\"white\"}},\"header\":{\"fill\":{\"color\":\"#C8D4E3\"},\"line\":{\"color\":\"white\"}},\"type\":\"table\"}]},\"layout\":{\"annotationdefaults\":{\"arrowcolor\":\"#2a3f5f\",\"arrowhead\":0,\"arrowwidth\":1},\"autotypenumbers\":\"strict\",\"coloraxis\":{\"colorbar\":{\"outlinewidth\":0,\"ticks\":\"\"}},\"colorscale\":{\"diverging\":[[0,\"#8e0152\"],[0.1,\"#c51b7d\"],[0.2,\"#de77ae\"],[0.3,\"#f1b6da\"],[0.4,\"#fde0ef\"],[0.5,\"#f7f7f7\"],[0.6,\"#e6f5d0\"],[0.7,\"#b8e186\"],[0.8,\"#7fbc41\"],[0.9,\"#4d9221\"],[1,\"#276419\"]],\"sequential\":[[0.0,\"#0d0887\"],[0.1111111111111111,\"#46039f\"],[0.2222222222222222,\"#7201a8\"],[0.3333333333333333,\"#9c179e\"],[0.4444444444444444,\"#bd3786\"],[0.5555555555555556,\"#d8576b\"],[0.6666666666666666,\"#ed7953\"],[0.7777777777777778,\"#fb9f3a\"],[0.8888888888888888,\"#fdca26\"],[1.0,\"#f0f921\"]],\"sequentialminus\":[[0.0,\"#0d0887\"],[0.1111111111111111,\"#46039f\"],[0.2222222222222222,\"#7201a8\"],[0.3333333333333333,\"#9c179e\"],[0.4444444444444444,\"#bd3786\"],[0.5555555555555556,\"#d8576b\"],[0.6666666666666666,\"#ed7953\"],[0.7777777777777778,\"#fb9f3a\"],[0.8888888888888888,\"#fdca26\"],[1.0,\"#f0f921\"]]},\"colorway\":[\"#636efa\",\"#EF553B\",\"#00cc96\",\"#ab63fa\",\"#FFA15A\",\"#19d3f3\",\"#FF6692\",\"#B6E880\",\"#FF97FF\",\"#FECB52\"],\"font\":{\"color\":\"#2a3f5f\"},\"geo\":{\"bgcolor\":\"white\",\"lakecolor\":\"white\",\"landcolor\":\"#E5ECF6\",\"showlakes\":true,\"showland\":true,\"subunitcolor\":\"white\"},\"hoverlabel\":{\"align\":\"left\"},\"hovermode\":\"closest\",\"mapbox\":{\"style\":\"light\"},\"paper_bgcolor\":\"white\",\"plot_bgcolor\":\"#E5ECF6\",\"polar\":{\"angularaxis\":{\"gridcolor\":\"white\",\"linecolor\":\"white\",\"ticks\":\"\"},\"bgcolor\":\"#E5ECF6\",\"radialaxis\":{\"gridcolor\":\"white\",\"linecolor\":\"white\",\"ticks\":\"\"}},\"scene\":{\"xaxis\":{\"backgroundcolor\":\"#E5ECF6\",\"gridcolor\":\"white\",\"gridwidth\":2,\"linecolor\":\"white\",\"showbackground\":true,\"ticks\":\"\",\"zerolinecolor\":\"white\"},\"yaxis\":{\"backgroundcolor\":\"#E5ECF6\",\"gridcolor\":\"white\",\"gridwidth\":2,\"linecolor\":\"white\",\"showbackground\":true,\"ticks\":\"\",\"zerolinecolor\":\"white\"},\"zaxis\":{\"backgroundcolor\":\"#E5ECF6\",\"gridcolor\":\"white\",\"gridwidth\":2,\"linecolor\":\"white\",\"showbackground\":true,\"ticks\":\"\",\"zerolinecolor\":\"white\"}},\"shapedefaults\":{\"line\":{\"color\":\"#2a3f5f\"}},\"ternary\":{\"aaxis\":{\"gridcolor\":\"white\",\"linecolor\":\"white\",\"ticks\":\"\"},\"baxis\":{\"gridcolor\":\"white\",\"linecolor\":\"white\",\"ticks\":\"\"},\"bgcolor\":\"#E5ECF6\",\"caxis\":{\"gridcolor\":\"white\",\"linecolor\":\"white\",\"ticks\":\"\"}},\"title\":{\"x\":0.05},\"xaxis\":{\"automargin\":true,\"gridcolor\":\"white\",\"linecolor\":\"white\",\"ticks\":\"\",\"title\":{\"standoff\":15},\"zerolinecolor\":\"white\",\"zerolinewidth\":2},\"yaxis\":{\"automargin\":true,\"gridcolor\":\"white\",\"linecolor\":\"white\",\"ticks\":\"\",\"title\":{\"standoff\":15},\"zerolinecolor\":\"white\",\"zerolinewidth\":2}}}},\"margin\":[5,5,5,5],\"name\":\"Map\",\"viewport_update_throttle\":200},\"id\":\"10458\",\"type\":\"panel.models.plotly.PlotlyPlot\"},{\"attributes\":{},\"id\":\"10294\",\"type\":\"Selection\"},{\"attributes\":{},\"id\":\"10349\",\"type\":\"PanTool\"},{\"attributes\":{},\"id\":\"10159\",\"type\":\"PanTool\"},{\"attributes\":{\"line_color\":\"#1f77b3\",\"line_width\":2,\"x\":{\"field\":\"year\"},\"y\":{\"field\":\"sale_price_sqr_foot\"}},\"id\":\"10296\",\"type\":\"Line\"},{\"attributes\":{},\"id\":\"10172\",\"type\":\"Selection\"},{\"attributes\":{},\"id\":\"10345\",\"type\":\"BasicTicker\"},{\"attributes\":{\"active_drag\":\"auto\",\"active_inspect\":\"auto\",\"active_multi\":null,\"active_scroll\":\"auto\",\"active_tap\":\"auto\",\"tools\":[{\"id\":\"10141\"},{\"id\":\"10158\"},{\"id\":\"10159\"},{\"id\":\"10160\"},{\"id\":\"10161\"},{\"id\":\"10162\"}]},\"id\":\"10164\",\"type\":\"Toolbar\"},{\"attributes\":{\"line_alpha\":0.2,\"line_color\":\"#1f77b3\",\"line_width\":2,\"x\":{\"field\":\"year\"},\"y\":{\"field\":\"sale_price_sqr_foot\"}},\"id\":\"10366\",\"type\":\"Line\"},{\"attributes\":{\"data\":{\"lat\":[{\"__ndarray__\":\"LV+X4T/lQkB1AwXeyeNCQBmto6oJ3kJAvqQxWkfdQkA2cXK/Q91CQDQMHxFT4kJAVvFG5pHjQkCVYHE4899CQPjfSnZs4EJAcQM+P4zkQkDoMF9egOVCQD/G3LWE3EJANnFyv0PdQkCMZ9DQP+VCQMPYQpCD4kJA8WjjiLXgQkC+pDFaR91CQIxn0NA/5UJAjGfQ0D/lQkAMjpJX5+BCQDZxcr9D3UJAe5+qQgPhQkDLoUW28+FCQMuhRbbz4UJA4nX9gt3cQkBIE+8AT9xCQHiXi/hO3EJAxvmbUIjgQkCVYHE4899CQAd7E0Ny4kJAlWBxOPPfQkBxAz4/jORCQIOLFTWY5kJAXW3F/rLjQkDoMF9egOVCQIP6ljld5kJAY7SOqibcQkD430p2bOBCQOAtkKD43UJAf59x4UDkQkCO6QlLPOBCQDZxcr9D3UJA6DBfXoDlQkD430p2bOBCQApoImx45kJACmgibHjmQkBjtI6qJtxCQD/G3LWE3EJAnDOitDfgQkBmg0wycuJCQJVgcTjz30JA6DBfXoDlQkC+h0uOO91CQJVgcTjz30JAL26jAbzhQkAZraOqCd5CQHb9gt2w3UJAcQM+P4zkQkDoMF9egOVCQBmto6oJ3kJAf59x4UDkQkCMZ9DQP+VCQOAtkKD43UJACmgibHjmQkDIW65+bOBCQIxn0NA/5UJA1XPS+8bjQkC+pDFaR91CQLtE9dbA3kJA6DBfXoDlQkCDL0ymCt5CQOAtkKD43UJA6DBfXoDlQkA=\",\"dtype\":\"float64\",\"order\":\"little\",\"shape\":[73]}],\"lon\":[{\"__ndarray__\":\"L26jAbyZXsA5mE2AYZxewPfuj/eqmV7A2dMOf02aXsCKH2PuWpxewLWJk/sdnF7AQspPqn2cXsB9VwT/W59ewC2VtyOcnF7Ad76fGi+dXsAge73745tewEPFOH8TnF7Aih9j7lqcXsAvbqMBvJlewOmf4GJFm17AAyFZwAScXsDZ0w5/TZpewC9uowG8mV7AL26jAbyZXsAkr84xIJ1ewIofY+5anF7AJyzxgLKdXsBPl8XE5ptewE+XxcTmm17ApFNXPsuXXsBmu0IfLJ9ewDY3picsn17AzOmymNiaXsB9VwT/W59ewEjdzr7ynl7AWoEhq1ufXsB3vp8aL51ewIjvxKwXnV7APz+MEB6dXsAge73745tewBU1mIbhnV7Aj+TyH9KdXsAtlbcjnJxewGmR7Xw/nV7AHcnlP6SZXsC6ZvLNNptewIofY+5anF7AIHu9++ObXsAtlbcjnJxewKuy74rgmV7Aq7LviuCZXsCP5PIf0p1ewEPFOH8TnF7ABoGVQ4ucXsDp1JXP8p5ewH1XBP9bn17AIHu9++ObXsDHM2jon55ewH1XBP9bn17A7MA5I0qdXsD37o/3qplewDehEAGHmF7Ad76fGi+dXsAge73745tewPfuj/eqmV7AHcnlP6SZXsAvbqMBvJlewGmR7Xw/nV7Aq7LviuCZXsBF14UfnJxewC9uowG8mV7AAkht4uSaXsDZ0w5/TZpewC9RvTWwnV7AIHu9++ObXsD/Qo8YPZ1ewGmR7Xw/nV7AVFxV9l2ZXsA=\",\"dtype\":\"float64\",\"order\":\"little\",\"shape\":[73]}],\"marker.color\":[{\"__ndarray__\":\"SZIkSZICpkCrqqqqqq+nQM3MzMzMHKJAAAAAAAA2rUCrqqqqqhCoQKuqqqqqFaVASZIkSZICpkBJkiRJkgKmQAAAAAAAlaFAAAAAAABQo0BJkiRJkgKmQKuqqqqqFaVAAAAAAACAn0BJkiRJkgKmQAAAAACAuKVASZIkSZICpkCrqqqqqq+nQEmSJEmSAqZAAAAAAABQo0AAAAAAANabQAAAAAAAp6ZAzczMzMxSpEBJkiRJkgKmQEmSJEmSAqZAAAAAAAByo0AAAAAAAJqjQAAAAAAAIKdASZIkSZICpkAAAAAAADCpQEmSJEmSAqZASZIkSZICpkBJkiRJkgKmQFVVVVVV9qNAVVVVVVX2o0BJkiRJkgKmQEmSJEmSAqZAAAAAAACsqkAAAAAAAK+kQAAAAACA1qBAVVVVVVXPpEBVVVVVVfajQM3MzMzMyqhASZIkSZICpkBJkiRJkgKmQJqZmZmZXadAzczMzMwEpkAAAAAAAASjQAAAAACAZ6dASZIkSZICpkBJkiRJkgKmQEmSJEmSAqZASZIkSZICpkBJkiRJkgKmQFVVVVVV9qNASZIkSZICpkDNzMzMzByiQEmSJEmSAqZASZIkSZICpkBJkiRJkgKmQAAAAAAAkKtAAAAAAABmoEBJkiRJkgKmQAAAAAAAp6ZASZIkSZICpkBJkiRJkgKmQFVVVVVV9qNASZIkSZICpkAAAAAAAJKsQAAAAAAAp6NAVVVVVVX2o0AAAAAAAJWhQAAAAAAA7q5AVVVVVVX2o0A=\",\"dtype\":\"float64\",\"order\":\"little\",\"shape\":[73]}],\"marker.size\":[{\"__ndarray__\":\"cJyd1VTgdkAk1Xd7HVZ3QMu7p//VkmlA/m3ou1d2gkCwicLO+AWCQOHeULPjSnxAkyM5JcKmeEDxRHrAAXt6QGAgnA3rc35AdiCNAlBcgkANV25bts+EQC2aqyMR8HJADjYuKt4ve0BAExo283Z4QAT0IiSWaX9Azb8HR/0RhECMIKw8QUx4QEysfO/MdXhARl0VIGF9fEDnKA0RdB10QMn/9wKcfoNAa+R3ASb7g0BCjahYtxh8QECb/9zsPnZABT/1V/9TZUCYt5qCUv52QPmqSlDEDHhAfmgaicfaeECrA3m3FTuAQN85W0+CqXdAyXixJK7aeUCo3p7PEouAQBsbzgZFn3lA1YI2J6jjfUADLzpc59mAQOt1/4D+PYJAfSK5L8KmiEDjM3wxFTSBQFx/3pp8XohAcr9Bp4mxgUC9Hcljpi56QAabwse6W4BAhQqU+EOjfEAzwd8Vi/OAQA1GhppZunlANYyg6lAkf0A0VzbjjqF0QGONxdbeS25ATpTGpG5QfkAuXEiRaZ59QGJw/yeBo3hAFpsVUHKMhUAyVprHuVt3QBQ4ODjDAnVAYJzjcuzFg0CTVGKj0nF0QJrMCuEbsIRAy835O80ahUBvvf+g3QeDQNMptI5cSWVAya3y7v5QhECG4cLhK9KBQP9hf/GLgoBAvQqFeA0khUCLIC7GYFZ9QCUQFDHyP4xAR1RQI2dCeUCgCCJ5dddyQMr0d9XQJ39AXWt0xv44c0BA3+aooa2AQGzQRFqzeIVAg478xK0FgkA=\",\"dtype\":\"float64\",\"order\":\"little\",\"shape\":[73]}]},\"selected\":{\"id\":\"10464\"},\"selection_policy\":{\"id\":\"10465\"}},\"id\":\"10457\",\"type\":\"ColumnDataSource\"},{\"attributes\":{\"line_alpha\":0.1,\"line_color\":\"#1f77b3\",\"line_width\":2,\"x\":{\"field\":\"year\"},\"y\":{\"field\":\"sale_price_sqr_foot\"}},\"id\":\"10297\",\"type\":\"Line\"},{\"attributes\":{\"bottom_units\":\"screen\",\"fill_alpha\":0.5,\"fill_color\":\"lightgrey\",\"left_units\":\"screen\",\"level\":\"overlay\",\"line_alpha\":1.0,\"line_color\":\"black\",\"line_dash\":[4,4],\"line_width\":2,\"right_units\":\"screen\",\"top_units\":\"screen\"},\"id\":\"10163\",\"type\":\"BoxAnnotation\"},{\"attributes\":{\"callback\":null,\"renderers\":[{\"id\":\"10367\"}],\"tags\":[\"hv_created\"],\"tooltips\":[[\"year\",\"@{year}\"],[\"sale_price_sqr_foot\",\"@{sale_price_sqr_foot}\"]]},\"id\":\"10330\",\"type\":\"HoverTool\"},{\"attributes\":{},\"id\":\"10397\",\"type\":\"CategoricalScale\"},{\"attributes\":{\"axis_label\":\"sale_price_sqr_foot\",\"bounds\":\"auto\",\"formatter\":{\"id\":\"10371\"},\"major_label_orientation\":\"horizontal\",\"ticker\":{\"id\":\"10345\"}},\"id\":\"10344\",\"type\":\"LinearAxis\"},{\"attributes\":{},\"id\":\"10348\",\"type\":\"SaveTool\"},{\"attributes\":{\"factors\":[\"Union Square District\",\"Merced Heights\",\"Miraloma Park\",\"Pacific Heights\",\"Westwood Park\",\"Telegraph Hill\",\"Presidio Heights\",\"Cow Hollow\",\"Potrero Hill\",\"South Beach\"],\"tags\":[[[\"neighborhood\",\"neighborhood\",null]]]},\"id\":\"10389\",\"type\":\"FactorRange\"},{\"attributes\":{\"data\":{\"housing_units\":[21981040,22095913,21834332,21568857,22820880,22173110,17675132],\"year\":[\"2010\",\"2011\",\"2012\",\"2013\",\"2014\",\"2015\",\"2016\"]},\"selected\":{\"id\":\"10172\"},\"selection_policy\":{\"id\":\"10189\"}},\"id\":\"10171\",\"type\":\"ColumnDataSource\"},{\"attributes\":{\"axis_label\":\"year\",\"bounds\":\"auto\",\"formatter\":{\"id\":\"10301\"},\"major_label_orientation\":\"horizontal\",\"ticker\":{\"id\":\"10273\"}},\"id\":\"10272\",\"type\":\"LinearAxis\"},{\"attributes\":{\"line_alpha\":0.2,\"line_color\":\"#1f77b3\",\"line_width\":2,\"x\":{\"field\":\"year\"},\"y\":{\"field\":\"gross_rent\"}},\"id\":\"10237\",\"type\":\"Line\"},{\"attributes\":{\"axis\":{\"id\":\"10154\"},\"dimension\":1,\"grid_line_color\":null,\"ticker\":null},\"id\":\"10157\",\"type\":\"Grid\"},{\"attributes\":{},\"id\":\"10270\",\"type\":\"LinearScale\"},{\"attributes\":{},\"id\":\"10402\",\"type\":\"CategoricalTicker\"},{\"attributes\":{},\"id\":\"10233\",\"type\":\"Selection\"},{\"attributes\":{},\"id\":\"10399\",\"type\":\"LinearScale\"},{\"attributes\":{\"line_color\":\"#1f77b3\",\"line_width\":2,\"x\":{\"field\":\"year\"},\"y\":{\"field\":\"gross_rent\"}},\"id\":\"10235\",\"type\":\"Line\"},{\"attributes\":{},\"id\":\"10369\",\"type\":\"BasicTickFormatter\"},{\"attributes\":{},\"id\":\"10268\",\"type\":\"LinearScale\"},{\"attributes\":{\"callback\":null,\"renderers\":[{\"id\":\"10177\"}],\"tags\":[\"hv_created\"],\"tooltips\":[[\"year\",\"@{year}\"],[\"housing_units\",\"@{housing_units}\"]]},\"id\":\"10141\",\"type\":\"HoverTool\"},{\"attributes\":{},\"id\":\"10181\",\"type\":\"BasicTickFormatter\"},{\"attributes\":{},\"id\":\"10301\",\"type\":\"BasicTickFormatter\"},{\"attributes\":{\"axis_label\":\"Neighborhood\",\"bounds\":\"auto\",\"formatter\":{\"id\":\"10429\"},\"major_label_orientation\":1.5707963267948966,\"ticker\":{\"id\":\"10402\"}},\"id\":\"10401\",\"type\":\"CategoricalAxis\"},{\"attributes\":{\"line_alpha\":0.1,\"line_color\":\"#1f77b3\",\"line_width\":2,\"x\":{\"field\":\"year\"},\"y\":{\"field\":\"gross_rent\"}},\"id\":\"10236\",\"type\":\"Line\"},{\"attributes\":{\"below\":[{\"id\":\"10340\"}],\"center\":[{\"id\":\"10343\"},{\"id\":\"10347\"}],\"left\":[{\"id\":\"10344\"}],\"margin\":[5,5,5,5],\"min_border_bottom\":10,\"min_border_left\":10,\"min_border_right\":10,\"min_border_top\":10,\"plot_height\":300,\"plot_width\":700,\"renderers\":[{\"id\":\"10367\"}],\"sizing_mode\":\"fixed\",\"title\":{\"id\":\"10332\"},\"toolbar\":{\"id\":\"10354\"},\"x_range\":{\"id\":\"10328\"},\"x_scale\":{\"id\":\"10336\"},\"y_range\":{\"id\":\"10261\"},\"y_scale\":{\"id\":\"10338\"}},\"id\":\"10331\",\"subtype\":\"Figure\",\"type\":\"Plot\"},{\"attributes\":{\"source\":{\"id\":\"10361\"}},\"id\":\"10368\",\"type\":\"CDSView\"},{\"attributes\":{\"axis\":{\"id\":\"10401\"},\"grid_line_color\":null,\"ticker\":null},\"id\":\"10403\",\"type\":\"Grid\"},{\"attributes\":{\"child\":{\"id\":\"10458\"},\"name\":\"Map\",\"title\":\"Map\"},\"id\":\"10459\",\"type\":\"Panel\"}],\"root_ids\":[\"10136\",\"10598\",\"10737\"]},\"title\":\"Bokeh Application\",\"version\":\"2.2.3\"}};\n",
       "    var render_items = [{\"docid\":\"0a1b07c4-e471-4a6c-9829-673feca2567a\",\"root_ids\":[\"10136\"],\"roots\":{\"10136\":\"88d472d8-0518-4704-87bb-1606f36f79e3\"}}];\n",
       "    root.Bokeh.embed.embed_items_notebook(docs_json, render_items);\n",
       "  }\n",
       "  if (root.Bokeh !== undefined && root.Bokeh.Panel !== undefined && root['Plotly'] !== undefined ) {\n",
       "    embed_document(root);\n",
       "  } else {\n",
       "    var attempts = 0;\n",
       "    var timer = setInterval(function(root) {\n",
       "      if (root.Bokeh !== undefined && root.Bokeh.Panel !== undefined && root['Plotly'] !== undefined) {\n",
       "        clearInterval(timer);\n",
       "        embed_document(root);\n",
       "      } else if (document.readyState == \"complete\") {\n",
       "        attempts++;\n",
       "        if (attempts > 100) {\n",
       "          clearInterval(timer);\n",
       "          console.log(\"Bokeh: ERROR: Unable to run BokehJS code because BokehJS library is missing\");\n",
       "        }\n",
       "      }\n",
       "    }, 10, root)\n",
       "  }\n",
       "})(window);</script>"
      ],
      "text/plain": [
       "Tabs\n",
       "    [0] Column\n",
       "        [0] Markdown(str)\n",
       "        [1] HoloViews(Bars)\n",
       "        [2] HoloViews(Curve)\n",
       "        [3] HoloViews(Curve)\n",
       "    [1] Column\n",
       "        [0] Markdown(str)\n",
       "        [1] Column\n",
       "            [0] Column\n",
       "                [0] Select(name='neighborhood', options=['Alamo Square', ...], value='Alamo Square')\n",
       "            [1] Row\n",
       "                [0] HoloViews(Curve, name='interactive12893')\n",
       "        [2] HoloViews(Bars)\n",
       "    [2] Column\n",
       "        [0] Markdown(str)\n",
       "        [1] Plotly(Figure)\n",
       "        [2] Plotly(Figure)\n",
       "    [3] Plotly(Figure, name='Map')"
      ]
     },
     "execution_count": 113,
     "metadata": {
      "application/vnd.holoviews_exec.v0+json": {
       "id": "10136"
      }
     },
     "output_type": "execute_result"
    }
   ],
   "source": [
    "panel.servable()"
   ]
  },
  {
   "cell_type": "code",
   "execution_count": null,
   "metadata": {},
   "outputs": [],
   "source": []
  },
  {
   "cell_type": "code",
   "execution_count": null,
   "metadata": {},
   "outputs": [],
   "source": []
  },
  {
   "cell_type": "code",
   "execution_count": null,
   "metadata": {},
   "outputs": [],
   "source": []
  }
 ],
 "metadata": {
  "file_extension": ".py",
  "kernelspec": {
   "display_name": "Python 3",
   "language": "python",
   "name": "python3"
  },
  "language_info": {
   "codemirror_mode": {
    "name": "ipython",
    "version": 3
   },
   "file_extension": ".py",
   "mimetype": "text/x-python",
   "name": "python",
   "nbconvert_exporter": "python",
   "pygments_lexer": "ipython3",
   "version": "3.7.9"
  },
  "mimetype": "text/x-python",
  "name": "python",
  "npconvert_exporter": "python",
  "pygments_lexer": "ipython3",
  "version": 3
 },
 "nbformat": 4,
 "nbformat_minor": 4
}
